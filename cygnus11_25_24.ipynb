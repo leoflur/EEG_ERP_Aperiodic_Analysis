{
 "cells": [
  {
   "cell_type": "code",
   "execution_count": 2,
   "metadata": {},
   "outputs": [],
   "source": [
    "import mne\n",
    "import matplotlib.pyplot as plt\n",
    "import numpy as np \n",
    "import os\n",
    "from itertools import chain\n",
    "from scipy.fft import fft, fftfreq"
   ]
  },
  {
   "cell_type": "code",
   "execution_count": 27,
   "metadata": {},
   "outputs": [
    {
     "name": "stdout",
     "output_type": "stream",
     "text": [
      "Reading C:\\Users\\leofl\\OneDrive\\Desktop\\ERP Data\\Project Cygnus\\p3_1.fdt\n",
      "Reading 0 ... 119551  =      0.000 ...   466.996 secs...\n"
     ]
    },
    {
     "name": "stdout",
     "output_type": "stream",
     "text": [
      "Used Annotations descriptions: ['11', '12', '13', '14', '15', '201', '202', '21', '22', '23', '24', '25', '31', '32', '33', '34', '35', '41', '42', '43', '44', '45', '51', '52', '53', '54', '55']\n"
     ]
    },
    {
     "name": "stderr",
     "output_type": "stream",
     "text": [
      "C:\\Users\\leofl\\AppData\\Local\\Temp\\ipykernel_15060\\4263599654.py:8: RuntimeWarning: Data file name in EEG.data (1_P3_shifted_ds_reref_ucbip_hpfilt_ica_weighted.fdt) is incorrect, the file name must have changed on disk, using the correct file name (p3_1.fdt).\n",
      "  raw_eeg = mne.io.read_raw_eeglab(file_path, preload=True)\n"
     ]
    },
    {
     "name": "stdout",
     "output_type": "stream",
     "text": [
      "Not setting metadata\n",
      "200 matching events found\n",
      "No baseline correction applied\n",
      "0 projection items activated\n",
      "Using data from preloaded Raw for 200 events and 309 original time points ...\n",
      "0 bad epochs dropped\n",
      "Reading C:\\Users\\leofl\\OneDrive\\Desktop\\ERP Data\\Project Cygnus\\p3_10.fdt\n",
      "Reading 0 ... 93951  =      0.000 ...   366.996 secs...\n",
      "Used Annotations descriptions: ['11', '12', '13', '14', '15', '201', '202', '21', '22', '23', '24', '25', '31', '32', '33', '34', '35', '41', '42', '43', '44', '45', '51', '52', '53', '54', '55']\n",
      "Not setting metadata\n"
     ]
    },
    {
     "name": "stderr",
     "output_type": "stream",
     "text": [
      "C:\\Users\\leofl\\AppData\\Local\\Temp\\ipykernel_15060\\4263599654.py:103: FutureWarning: The current default of copy=False will change to copy=True in 1.7. Set the value of copy explicitly to avoid this warning\n",
      "  pre_data = epochs_pre.copy().pick(['Pz']).get_data()\n",
      "C:\\Users\\leofl\\AppData\\Local\\Temp\\ipykernel_15060\\4263599654.py:104: FutureWarning: The current default of copy=False will change to copy=True in 1.7. Set the value of copy explicitly to avoid this warning\n",
      "  post_data = epochs_post.copy().pick(['Pz']).get_data()\n",
      "C:\\Users\\leofl\\AppData\\Local\\Temp\\ipykernel_15060\\4263599654.py:8: RuntimeWarning: Data file name in EEG.data (10_P3_shifted_ds_reref_ucbip_hpfilt_ica_weighted.fdt) is incorrect, the file name must have changed on disk, using the correct file name (p3_10.fdt).\n",
      "  raw_eeg = mne.io.read_raw_eeglab(file_path, preload=True)\n"
     ]
    },
    {
     "name": "stdout",
     "output_type": "stream",
     "text": [
      "194 matching events found\n",
      "No baseline correction applied\n",
      "0 projection items activated\n",
      "Using data from preloaded Raw for 194 events and 309 original time points ...\n",
      "0 bad epochs dropped\n",
      "Reading C:\\Users\\leofl\\OneDrive\\Desktop\\ERP Data\\Project Cygnus\\p3_11.fdt\n",
      "Reading 0 ... 94207  =      0.000 ...   367.996 secs...\n",
      "Used Annotations descriptions: ['11', '12', '13', '14', '15', '201', '202', '21', '22', '23', '24', '25', '31', '32', '33', '34', '35', '41', '42', '43', '44', '45', '51', '52', '53', '54', '55']\n",
      "Not setting metadata\n",
      "192 matching events found\n",
      "No baseline correction applied\n"
     ]
    },
    {
     "name": "stderr",
     "output_type": "stream",
     "text": [
      "C:\\Users\\leofl\\AppData\\Local\\Temp\\ipykernel_15060\\4263599654.py:103: FutureWarning: The current default of copy=False will change to copy=True in 1.7. Set the value of copy explicitly to avoid this warning\n",
      "  pre_data = epochs_pre.copy().pick(['Pz']).get_data()\n",
      "C:\\Users\\leofl\\AppData\\Local\\Temp\\ipykernel_15060\\4263599654.py:104: FutureWarning: The current default of copy=False will change to copy=True in 1.7. Set the value of copy explicitly to avoid this warning\n",
      "  post_data = epochs_post.copy().pick(['Pz']).get_data()\n",
      "C:\\Users\\leofl\\AppData\\Local\\Temp\\ipykernel_15060\\4263599654.py:8: RuntimeWarning: Data file name in EEG.data (11_P3_shifted_ds_reref_ucbip_hpfilt_ica_weighted.fdt) is incorrect, the file name must have changed on disk, using the correct file name (p3_11.fdt).\n",
      "  raw_eeg = mne.io.read_raw_eeglab(file_path, preload=True)\n"
     ]
    },
    {
     "name": "stdout",
     "output_type": "stream",
     "text": [
      "0 projection items activated\n",
      "Using data from preloaded Raw for 192 events and 309 original time points ...\n",
      "0 bad epochs dropped\n",
      "Reading C:\\Users\\leofl\\OneDrive\\Desktop\\ERP Data\\Project Cygnus\\p3_12.fdt\n",
      "Reading 0 ... 86271  =      0.000 ...   336.996 secs...\n",
      "Used Annotations descriptions: ['11', '12', '13', '14', '15', '201', '202', '21', '22', '23', '24', '25', '31', '32', '33', '34', '35', '41', '42', '43', '44', '45', '51', '52', '53', '54', '55']\n",
      "Not setting metadata\n",
      "189 matching events found\n",
      "No baseline correction applied\n",
      "0 projection items activated\n",
      "Using data from preloaded Raw for 189 events and 309 original time points ...\n"
     ]
    },
    {
     "name": "stderr",
     "output_type": "stream",
     "text": [
      "C:\\Users\\leofl\\AppData\\Local\\Temp\\ipykernel_15060\\4263599654.py:103: FutureWarning: The current default of copy=False will change to copy=True in 1.7. Set the value of copy explicitly to avoid this warning\n",
      "  pre_data = epochs_pre.copy().pick(['Pz']).get_data()\n",
      "C:\\Users\\leofl\\AppData\\Local\\Temp\\ipykernel_15060\\4263599654.py:104: FutureWarning: The current default of copy=False will change to copy=True in 1.7. Set the value of copy explicitly to avoid this warning\n",
      "  post_data = epochs_post.copy().pick(['Pz']).get_data()\n",
      "C:\\Users\\leofl\\AppData\\Local\\Temp\\ipykernel_15060\\4263599654.py:8: RuntimeWarning: Data file name in EEG.data (12_P3_shifted_ds_reref_ucbip_hpfilt_ica_weighted.fdt) is incorrect, the file name must have changed on disk, using the correct file name (p3_12.fdt).\n",
      "  raw_eeg = mne.io.read_raw_eeglab(file_path, preload=True)\n"
     ]
    },
    {
     "name": "stdout",
     "output_type": "stream",
     "text": [
      "0 bad epochs dropped\n",
      "Reading C:\\Users\\leofl\\OneDrive\\Desktop\\ERP Data\\Project Cygnus\\p3_13.fdt\n",
      "Reading 0 ... 96511  =      0.000 ...   376.996 secs...\n"
     ]
    },
    {
     "name": "stderr",
     "output_type": "stream",
     "text": [
      "C:\\Users\\leofl\\AppData\\Local\\Temp\\ipykernel_15060\\4263599654.py:103: FutureWarning: The current default of copy=False will change to copy=True in 1.7. Set the value of copy explicitly to avoid this warning\n",
      "  pre_data = epochs_pre.copy().pick(['Pz']).get_data()\n",
      "C:\\Users\\leofl\\AppData\\Local\\Temp\\ipykernel_15060\\4263599654.py:104: FutureWarning: The current default of copy=False will change to copy=True in 1.7. Set the value of copy explicitly to avoid this warning\n",
      "  post_data = epochs_post.copy().pick(['Pz']).get_data()\n",
      "C:\\Users\\leofl\\AppData\\Local\\Temp\\ipykernel_15060\\4263599654.py:8: RuntimeWarning: Data file name in EEG.data (13_P3_shifted_ds_reref_ucbip_hpfilt_ica_weighted.fdt) is incorrect, the file name must have changed on disk, using the correct file name (p3_13.fdt).\n",
      "  raw_eeg = mne.io.read_raw_eeglab(file_path, preload=True)\n"
     ]
    },
    {
     "name": "stdout",
     "output_type": "stream",
     "text": [
      "Used Annotations descriptions: ['11', '12', '13', '14', '15', '201', '202', '21', '22', '23', '24', '25', '31', '32', '33', '34', '35', '41', '42', '43', '44', '45', '51', '52', '53', '54', '55']\n",
      "Not setting metadata\n",
      "193 matching events found\n",
      "No baseline correction applied\n",
      "0 projection items activated\n",
      "Using data from preloaded Raw for 193 events and 309 original time points ...\n",
      "0 bad epochs dropped\n",
      "Reading C:\\Users\\leofl\\OneDrive\\Desktop\\ERP Data\\Project Cygnus\\p3_14.fdt\n",
      "Reading 0 ... 86783  =      0.000 ...   338.996 secs...\n",
      "Used Annotations descriptions: ['11', '12', '13', '14', '15', '201', '202', '21', '22', '23', '24', '25', '31', '32', '33', '34', '35', '41', '42', '43', '44', '45', '51', '52', '53', '54', '55']\n",
      "Not setting metadata\n",
      "200 matching events found\n",
      "No baseline correction applied\n",
      "0 projection items activated\n",
      "Using data from preloaded Raw for 200 events and 309 original time points ...\n"
     ]
    },
    {
     "name": "stderr",
     "output_type": "stream",
     "text": [
      "C:\\Users\\leofl\\AppData\\Local\\Temp\\ipykernel_15060\\4263599654.py:103: FutureWarning: The current default of copy=False will change to copy=True in 1.7. Set the value of copy explicitly to avoid this warning\n",
      "  pre_data = epochs_pre.copy().pick(['Pz']).get_data()\n",
      "C:\\Users\\leofl\\AppData\\Local\\Temp\\ipykernel_15060\\4263599654.py:104: FutureWarning: The current default of copy=False will change to copy=True in 1.7. Set the value of copy explicitly to avoid this warning\n",
      "  post_data = epochs_post.copy().pick(['Pz']).get_data()\n",
      "C:\\Users\\leofl\\AppData\\Local\\Temp\\ipykernel_15060\\4263599654.py:8: RuntimeWarning: Data file name in EEG.data (14_P3_shifted_ds_reref_ucbip_hpfilt_ica_weighted.fdt) is incorrect, the file name must have changed on disk, using the correct file name (p3_14.fdt).\n",
      "  raw_eeg = mne.io.read_raw_eeglab(file_path, preload=True)\n"
     ]
    },
    {
     "name": "stdout",
     "output_type": "stream",
     "text": [
      "0 bad epochs dropped\n",
      "Reading C:\\Users\\leofl\\OneDrive\\Desktop\\ERP Data\\Project Cygnus\\p3_15.fdt\n",
      "Reading 0 ... 93183  =      0.000 ...   363.996 secs...\n"
     ]
    },
    {
     "name": "stderr",
     "output_type": "stream",
     "text": [
      "C:\\Users\\leofl\\AppData\\Local\\Temp\\ipykernel_15060\\4263599654.py:103: FutureWarning: The current default of copy=False will change to copy=True in 1.7. Set the value of copy explicitly to avoid this warning\n",
      "  pre_data = epochs_pre.copy().pick(['Pz']).get_data()\n",
      "C:\\Users\\leofl\\AppData\\Local\\Temp\\ipykernel_15060\\4263599654.py:104: FutureWarning: The current default of copy=False will change to copy=True in 1.7. Set the value of copy explicitly to avoid this warning\n",
      "  post_data = epochs_post.copy().pick(['Pz']).get_data()\n",
      "C:\\Users\\leofl\\AppData\\Local\\Temp\\ipykernel_15060\\4263599654.py:8: RuntimeWarning: Data file name in EEG.data (15_P3_shifted_ds_reref_ucbip_hpfilt_ica_weighted.fdt) is incorrect, the file name must have changed on disk, using the correct file name (p3_15.fdt).\n",
      "  raw_eeg = mne.io.read_raw_eeglab(file_path, preload=True)\n"
     ]
    },
    {
     "name": "stdout",
     "output_type": "stream",
     "text": [
      "Used Annotations descriptions: ['11', '12', '13', '14', '15', '201', '202', '21', '22', '23', '24', '25', '31', '32', '33', '34', '35', '41', '42', '43', '44', '45', '51', '52', '53', '54', '55']\n",
      "Not setting metadata\n",
      "199 matching events found\n",
      "No baseline correction applied\n",
      "0 projection items activated\n",
      "Using data from preloaded Raw for 199 events and 309 original time points ...\n",
      "0 bad epochs dropped\n",
      "Reading C:\\Users\\leofl\\OneDrive\\Desktop\\ERP Data\\Project Cygnus\\p3_16.fdt\n",
      "Reading 0 ... 106239  =      0.000 ...   414.996 secs...\n",
      "Used Annotations descriptions: ['11', '12', '13', '14', '15', '201', '202', '21', '22', '23', '24', '25', '31', '32', '33', '34', '35', '41', '42', '43', '44', '45', '51', '52', '53', '54', '55']\n",
      "Not setting metadata\n"
     ]
    },
    {
     "name": "stderr",
     "output_type": "stream",
     "text": [
      "C:\\Users\\leofl\\AppData\\Local\\Temp\\ipykernel_15060\\4263599654.py:103: FutureWarning: The current default of copy=False will change to copy=True in 1.7. Set the value of copy explicitly to avoid this warning\n",
      "  pre_data = epochs_pre.copy().pick(['Pz']).get_data()\n",
      "C:\\Users\\leofl\\AppData\\Local\\Temp\\ipykernel_15060\\4263599654.py:104: FutureWarning: The current default of copy=False will change to copy=True in 1.7. Set the value of copy explicitly to avoid this warning\n",
      "  post_data = epochs_post.copy().pick(['Pz']).get_data()\n",
      "C:\\Users\\leofl\\AppData\\Local\\Temp\\ipykernel_15060\\4263599654.py:8: RuntimeWarning: Data file name in EEG.data (16_P3_shifted_ds_reref_ucbip_hpfilt_ica_weighted.fdt) is incorrect, the file name must have changed on disk, using the correct file name (p3_16.fdt).\n",
      "  raw_eeg = mne.io.read_raw_eeglab(file_path, preload=True)\n"
     ]
    },
    {
     "name": "stdout",
     "output_type": "stream",
     "text": [
      "200 matching events found\n",
      "No baseline correction applied\n",
      "0 projection items activated\n",
      "Using data from preloaded Raw for 200 events and 309 original time points ...\n",
      "0 bad epochs dropped\n",
      "Reading C:\\Users\\leofl\\OneDrive\\Desktop\\ERP Data\\Project Cygnus\\p3_17.fdt\n",
      "Reading 0 ... 100351  =      0.000 ...   391.996 secs...\n"
     ]
    },
    {
     "name": "stderr",
     "output_type": "stream",
     "text": [
      "C:\\Users\\leofl\\AppData\\Local\\Temp\\ipykernel_15060\\4263599654.py:103: FutureWarning: The current default of copy=False will change to copy=True in 1.7. Set the value of copy explicitly to avoid this warning\n",
      "  pre_data = epochs_pre.copy().pick(['Pz']).get_data()\n",
      "C:\\Users\\leofl\\AppData\\Local\\Temp\\ipykernel_15060\\4263599654.py:104: FutureWarning: The current default of copy=False will change to copy=True in 1.7. Set the value of copy explicitly to avoid this warning\n",
      "  post_data = epochs_post.copy().pick(['Pz']).get_data()\n",
      "C:\\Users\\leofl\\AppData\\Local\\Temp\\ipykernel_15060\\4263599654.py:8: RuntimeWarning: Data file name in EEG.data (17_P3_shifted_ds_reref_ucbip_hpfilt_ica_weighted.fdt) is incorrect, the file name must have changed on disk, using the correct file name (p3_17.fdt).\n",
      "  raw_eeg = mne.io.read_raw_eeglab(file_path, preload=True)\n"
     ]
    },
    {
     "name": "stdout",
     "output_type": "stream",
     "text": [
      "Used Annotations descriptions: ['11', '12', '13', '14', '15', '201', '202', '21', '22', '23', '24', '25', '31', '32', '33', '34', '35', '41', '42', '43', '44', '45', '51', '52', '53', '54', '55']\n",
      "Not setting metadata\n",
      "193 matching events found\n",
      "No baseline correction applied\n",
      "0 projection items activated\n",
      "Using data from preloaded Raw for 193 events and 309 original time points ...\n",
      "0 bad epochs dropped\n",
      "Reading C:\\Users\\leofl\\OneDrive\\Desktop\\ERP Data\\Project Cygnus\\p3_18.fdt\n",
      "Reading 0 ... 101631  =      0.000 ...   396.996 secs...\n",
      "Used Annotations descriptions: ['11', '12', '13', '14', '15', '201', '202', '21', '22', '23', '24', '25', '31', '32', '33', '34', '35', '41', '42', '43', '44', '45', '51', '52', '53', '54', '55']\n"
     ]
    },
    {
     "name": "stderr",
     "output_type": "stream",
     "text": [
      "C:\\Users\\leofl\\AppData\\Local\\Temp\\ipykernel_15060\\4263599654.py:103: FutureWarning: The current default of copy=False will change to copy=True in 1.7. Set the value of copy explicitly to avoid this warning\n",
      "  pre_data = epochs_pre.copy().pick(['Pz']).get_data()\n",
      "C:\\Users\\leofl\\AppData\\Local\\Temp\\ipykernel_15060\\4263599654.py:104: FutureWarning: The current default of copy=False will change to copy=True in 1.7. Set the value of copy explicitly to avoid this warning\n",
      "  post_data = epochs_post.copy().pick(['Pz']).get_data()\n",
      "C:\\Users\\leofl\\AppData\\Local\\Temp\\ipykernel_15060\\4263599654.py:8: RuntimeWarning: Data file name in EEG.data (18_P3_shifted_ds_reref_ucbip_hpfilt_ica_weighted.fdt) is incorrect, the file name must have changed on disk, using the correct file name (p3_18.fdt).\n",
      "  raw_eeg = mne.io.read_raw_eeglab(file_path, preload=True)\n"
     ]
    },
    {
     "name": "stdout",
     "output_type": "stream",
     "text": [
      "Not setting metadata\n",
      "196 matching events found\n",
      "No baseline correction applied\n",
      "0 projection items activated\n",
      "Using data from preloaded Raw for 196 events and 309 original time points ...\n",
      "0 bad epochs dropped\n",
      "Reading C:\\Users\\leofl\\OneDrive\\Desktop\\ERP Data\\Project Cygnus\\p3_19.fdt\n",
      "Reading 0 ... 94207  =      0.000 ...   367.996 secs...\n"
     ]
    },
    {
     "name": "stderr",
     "output_type": "stream",
     "text": [
      "C:\\Users\\leofl\\AppData\\Local\\Temp\\ipykernel_15060\\4263599654.py:103: FutureWarning: The current default of copy=False will change to copy=True in 1.7. Set the value of copy explicitly to avoid this warning\n",
      "  pre_data = epochs_pre.copy().pick(['Pz']).get_data()\n",
      "C:\\Users\\leofl\\AppData\\Local\\Temp\\ipykernel_15060\\4263599654.py:104: FutureWarning: The current default of copy=False will change to copy=True in 1.7. Set the value of copy explicitly to avoid this warning\n",
      "  post_data = epochs_post.copy().pick(['Pz']).get_data()\n",
      "C:\\Users\\leofl\\AppData\\Local\\Temp\\ipykernel_15060\\4263599654.py:8: RuntimeWarning: Data file name in EEG.data (19_P3_shifted_ds_reref_ucbip_hpfilt_ica_weighted.fdt) is incorrect, the file name must have changed on disk, using the correct file name (p3_19.fdt).\n",
      "  raw_eeg = mne.io.read_raw_eeglab(file_path, preload=True)\n"
     ]
    },
    {
     "name": "stdout",
     "output_type": "stream",
     "text": [
      "Used Annotations descriptions: ['11', '12', '13', '14', '15', '201', '202', '21', '22', '23', '24', '25', '31', '32', '33', '34', '35', '41', '42', '43', '44', '45', '51', '52', '53', '54', '55']\n",
      "Not setting metadata\n",
      "200 matching events found\n",
      "No baseline correction applied\n",
      "0 projection items activated\n",
      "Using data from preloaded Raw for 200 events and 309 original time points ...\n",
      "0 bad epochs dropped\n",
      "Reading C:\\Users\\leofl\\OneDrive\\Desktop\\ERP Data\\Project Cygnus\\p3_2.fdt\n",
      "Reading 0 ... 103679  =      0.000 ...   404.996 secs...\n",
      "Used Annotations descriptions: ['11', '12', '13', '14', '15', '201', '202', '21', '22', '23', '24', '25', '31', '32', '33', '34', '35', '41', '42', '43', '44', '45', '51', '52', '53', '54', '55']\n",
      "Not setting metadata\n",
      "196 matching events found\n",
      "No baseline correction applied\n",
      "0 projection items activated\n",
      "Using data from preloaded Raw for 196 events and 309 original time points ...\n",
      "0 bad epochs dropped\n"
     ]
    },
    {
     "name": "stderr",
     "output_type": "stream",
     "text": [
      "C:\\Users\\leofl\\AppData\\Local\\Temp\\ipykernel_15060\\4263599654.py:103: FutureWarning: The current default of copy=False will change to copy=True in 1.7. Set the value of copy explicitly to avoid this warning\n",
      "  pre_data = epochs_pre.copy().pick(['Pz']).get_data()\n",
      "C:\\Users\\leofl\\AppData\\Local\\Temp\\ipykernel_15060\\4263599654.py:104: FutureWarning: The current default of copy=False will change to copy=True in 1.7. Set the value of copy explicitly to avoid this warning\n",
      "  post_data = epochs_post.copy().pick(['Pz']).get_data()\n",
      "C:\\Users\\leofl\\AppData\\Local\\Temp\\ipykernel_15060\\4263599654.py:8: RuntimeWarning: Data file name in EEG.data (2_P3_shifted_ds_reref_ucbip_hpfilt_ica_weighted.fdt) is incorrect, the file name must have changed on disk, using the correct file name (p3_2.fdt).\n",
      "  raw_eeg = mne.io.read_raw_eeglab(file_path, preload=True)\n"
     ]
    },
    {
     "name": "stdout",
     "output_type": "stream",
     "text": [
      "Reading C:\\Users\\leofl\\OneDrive\\Desktop\\ERP Data\\Project Cygnus\\p3_20.fdt\n",
      "Reading 0 ... 94207  =      0.000 ...   367.996 secs...\n",
      "Used Annotations descriptions: ['11', '12', '13', '14', '15', '201', '202', '21', '22', '23', '24', '25', '31', '32', '33', '34', '35', '41', '42', '43', '44', '45', '51', '52', '53', '54', '55']\n"
     ]
    },
    {
     "name": "stderr",
     "output_type": "stream",
     "text": [
      "C:\\Users\\leofl\\AppData\\Local\\Temp\\ipykernel_15060\\4263599654.py:103: FutureWarning: The current default of copy=False will change to copy=True in 1.7. Set the value of copy explicitly to avoid this warning\n",
      "  pre_data = epochs_pre.copy().pick(['Pz']).get_data()\n",
      "C:\\Users\\leofl\\AppData\\Local\\Temp\\ipykernel_15060\\4263599654.py:104: FutureWarning: The current default of copy=False will change to copy=True in 1.7. Set the value of copy explicitly to avoid this warning\n",
      "  post_data = epochs_post.copy().pick(['Pz']).get_data()\n",
      "C:\\Users\\leofl\\AppData\\Local\\Temp\\ipykernel_15060\\4263599654.py:8: RuntimeWarning: Data file name in EEG.data (20_P3_shifted_ds_reref_ucbip_hpfilt_ica_weighted.fdt) is incorrect, the file name must have changed on disk, using the correct file name (p3_20.fdt).\n",
      "  raw_eeg = mne.io.read_raw_eeglab(file_path, preload=True)\n"
     ]
    },
    {
     "name": "stdout",
     "output_type": "stream",
     "text": [
      "Not setting metadata\n",
      "190 matching events found\n",
      "No baseline correction applied\n",
      "0 projection items activated\n",
      "Using data from preloaded Raw for 190 events and 309 original time points ...\n",
      "0 bad epochs dropped\n",
      "Reading C:\\Users\\leofl\\OneDrive\\Desktop\\ERP Data\\Project Cygnus\\p3_3.fdt\n",
      "Reading 0 ... 96511  =      0.000 ...   376.996 secs...\n",
      "Used Annotations descriptions: ['11', '12', '13', '14', '15', '201', '202', '21', '22', '23', '24', '25', '31', '32', '33', '34', '35', '41', '42', '43', '44', '45', '51', '52', '53', '54', '55']\n",
      "Not setting metadata\n",
      "178 matching events found\n",
      "No baseline correction applied\n",
      "0 projection items activated\n",
      "Using data from preloaded Raw for 178 events and 309 original time points ...\n",
      "0 bad epochs dropped\n"
     ]
    },
    {
     "name": "stderr",
     "output_type": "stream",
     "text": [
      "C:\\Users\\leofl\\AppData\\Local\\Temp\\ipykernel_15060\\4263599654.py:103: FutureWarning: The current default of copy=False will change to copy=True in 1.7. Set the value of copy explicitly to avoid this warning\n",
      "  pre_data = epochs_pre.copy().pick(['Pz']).get_data()\n",
      "C:\\Users\\leofl\\AppData\\Local\\Temp\\ipykernel_15060\\4263599654.py:104: FutureWarning: The current default of copy=False will change to copy=True in 1.7. Set the value of copy explicitly to avoid this warning\n",
      "  post_data = epochs_post.copy().pick(['Pz']).get_data()\n",
      "C:\\Users\\leofl\\AppData\\Local\\Temp\\ipykernel_15060\\4263599654.py:8: RuntimeWarning: Data file name in EEG.data (3_P3_shifted_ds_reref_ucbip_hpfilt_ica_weighted.fdt) is incorrect, the file name must have changed on disk, using the correct file name (p3_3.fdt).\n",
      "  raw_eeg = mne.io.read_raw_eeglab(file_path, preload=True)\n"
     ]
    },
    {
     "name": "stdout",
     "output_type": "stream",
     "text": [
      "Reading C:\\Users\\leofl\\OneDrive\\Desktop\\ERP Data\\Project Cygnus\\p3_4.fdt\n",
      "Reading 0 ... 139263  =      0.000 ...   543.996 secs...\n"
     ]
    },
    {
     "name": "stderr",
     "output_type": "stream",
     "text": [
      "C:\\Users\\leofl\\AppData\\Local\\Temp\\ipykernel_15060\\4263599654.py:103: FutureWarning: The current default of copy=False will change to copy=True in 1.7. Set the value of copy explicitly to avoid this warning\n",
      "  pre_data = epochs_pre.copy().pick(['Pz']).get_data()\n",
      "C:\\Users\\leofl\\AppData\\Local\\Temp\\ipykernel_15060\\4263599654.py:104: FutureWarning: The current default of copy=False will change to copy=True in 1.7. Set the value of copy explicitly to avoid this warning\n",
      "  post_data = epochs_post.copy().pick(['Pz']).get_data()\n",
      "C:\\Users\\leofl\\AppData\\Local\\Temp\\ipykernel_15060\\4263599654.py:8: RuntimeWarning: Data file name in EEG.data (4_P3_shifted_ds_reref_ucbip_hpfilt_ica_weighted.fdt) is incorrect, the file name must have changed on disk, using the correct file name (p3_4.fdt).\n",
      "  raw_eeg = mne.io.read_raw_eeglab(file_path, preload=True)\n"
     ]
    },
    {
     "name": "stdout",
     "output_type": "stream",
     "text": [
      "Used Annotations descriptions: ['11', '12', '13', '14', '15', '201', '202', '21', '22', '23', '24', '25', '31', '32', '33', '34', '35', '41', '42', '43', '44', '45', '51', '52', '53', '54', '55']\n",
      "Not setting metadata\n",
      "198 matching events found\n",
      "No baseline correction applied\n",
      "0 projection items activated\n",
      "Using data from preloaded Raw for 198 events and 309 original time points ...\n",
      "0 bad epochs dropped\n",
      "Reading C:\\Users\\leofl\\OneDrive\\Desktop\\ERP Data\\Project Cygnus\\p3_5.fdt\n",
      "Reading 0 ... 97791  =      0.000 ...   381.996 secs...\n",
      "Used Annotations descriptions: ['11', '12', '13', '14', '15', '201', '202', '21', '22', '23', '24', '25', '31', '32', '33', '34', '35', '41', '42', '43', '44', '45', '51', '52', '53', '54', '55']\n",
      "Not setting metadata\n",
      "192 matching events found\n",
      "No baseline correction applied\n",
      "0 projection items activated\n",
      "Using data from preloaded Raw for 192 events and 309 original time points ...\n"
     ]
    },
    {
     "name": "stderr",
     "output_type": "stream",
     "text": [
      "C:\\Users\\leofl\\AppData\\Local\\Temp\\ipykernel_15060\\4263599654.py:103: FutureWarning: The current default of copy=False will change to copy=True in 1.7. Set the value of copy explicitly to avoid this warning\n",
      "  pre_data = epochs_pre.copy().pick(['Pz']).get_data()\n",
      "C:\\Users\\leofl\\AppData\\Local\\Temp\\ipykernel_15060\\4263599654.py:104: FutureWarning: The current default of copy=False will change to copy=True in 1.7. Set the value of copy explicitly to avoid this warning\n",
      "  post_data = epochs_post.copy().pick(['Pz']).get_data()\n",
      "C:\\Users\\leofl\\AppData\\Local\\Temp\\ipykernel_15060\\4263599654.py:8: RuntimeWarning: Data file name in EEG.data (5_P3_shifted_ds_reref_ucbip_hpfilt_ica_weighted.fdt) is incorrect, the file name must have changed on disk, using the correct file name (p3_5.fdt).\n",
      "  raw_eeg = mne.io.read_raw_eeglab(file_path, preload=True)\n"
     ]
    },
    {
     "name": "stdout",
     "output_type": "stream",
     "text": [
      "0 bad epochs dropped\n",
      "Reading C:\\Users\\leofl\\OneDrive\\Desktop\\ERP Data\\Project Cygnus\\p3_6.fdt\n",
      "Reading 0 ... 83967  =      0.000 ...   327.996 secs...\n",
      "Used Annotations descriptions: ['11', '12', '13', '14', '15', '201', '202', '21', '22', '23', '24', '25', '31', '32', '33', '34', '35', '41', '42', '43', '44', '45', '51', '52', '53', '54', '55']\n",
      "Not setting metadata\n",
      "190 matching events found\n",
      "No baseline correction applied\n",
      "0 projection items activated\n",
      "Using data from preloaded Raw for 190 events and 309 original time points ...\n"
     ]
    },
    {
     "name": "stderr",
     "output_type": "stream",
     "text": [
      "C:\\Users\\leofl\\AppData\\Local\\Temp\\ipykernel_15060\\4263599654.py:103: FutureWarning: The current default of copy=False will change to copy=True in 1.7. Set the value of copy explicitly to avoid this warning\n",
      "  pre_data = epochs_pre.copy().pick(['Pz']).get_data()\n",
      "C:\\Users\\leofl\\AppData\\Local\\Temp\\ipykernel_15060\\4263599654.py:104: FutureWarning: The current default of copy=False will change to copy=True in 1.7. Set the value of copy explicitly to avoid this warning\n",
      "  post_data = epochs_post.copy().pick(['Pz']).get_data()\n",
      "C:\\Users\\leofl\\AppData\\Local\\Temp\\ipykernel_15060\\4263599654.py:8: RuntimeWarning: Data file name in EEG.data (6_P3_shifted_ds_reref_ucbip_hpfilt_ica_weighted.fdt) is incorrect, the file name must have changed on disk, using the correct file name (p3_6.fdt).\n",
      "  raw_eeg = mne.io.read_raw_eeglab(file_path, preload=True)\n"
     ]
    },
    {
     "name": "stdout",
     "output_type": "stream",
     "text": [
      "0 bad epochs dropped\n",
      "Reading C:\\Users\\leofl\\OneDrive\\Desktop\\ERP Data\\Project Cygnus\\p3_7.fdt\n",
      "Reading 0 ... 91135  =      0.000 ...   355.996 secs...\n",
      "Used Annotations descriptions: ['11', '12', '13', '14', '15', '201', '202', '21', '22', '23', '24', '25', '31', '32', '33', '34', '35', '41', '42', '43', '44', '45', '51', '52', '53', '54', '55']\n",
      "Not setting metadata\n",
      "197 matching events found\n",
      "No baseline correction applied\n",
      "0 projection items activated\n",
      "Using data from preloaded Raw for 197 events and 309 original time points ...\n",
      "0 bad epochs dropped\n"
     ]
    },
    {
     "name": "stderr",
     "output_type": "stream",
     "text": [
      "C:\\Users\\leofl\\AppData\\Local\\Temp\\ipykernel_15060\\4263599654.py:103: FutureWarning: The current default of copy=False will change to copy=True in 1.7. Set the value of copy explicitly to avoid this warning\n",
      "  pre_data = epochs_pre.copy().pick(['Pz']).get_data()\n",
      "C:\\Users\\leofl\\AppData\\Local\\Temp\\ipykernel_15060\\4263599654.py:104: FutureWarning: The current default of copy=False will change to copy=True in 1.7. Set the value of copy explicitly to avoid this warning\n",
      "  post_data = epochs_post.copy().pick(['Pz']).get_data()\n",
      "C:\\Users\\leofl\\AppData\\Local\\Temp\\ipykernel_15060\\4263599654.py:8: RuntimeWarning: Data file name in EEG.data (7_P3_shifted_ds_reref_ucbip_hpfilt_ica_weighted.fdt) is incorrect, the file name must have changed on disk, using the correct file name (p3_7.fdt).\n",
      "  raw_eeg = mne.io.read_raw_eeglab(file_path, preload=True)\n"
     ]
    },
    {
     "name": "stdout",
     "output_type": "stream",
     "text": [
      "Reading C:\\Users\\leofl\\OneDrive\\Desktop\\ERP Data\\Project Cygnus\\p3_8.fdt\n",
      "Reading 0 ... 117759  =      0.000 ...   459.996 secs...\n",
      "Used Annotations descriptions: ['11', '12', '13', '14', '15', '201', '202', '21', '22', '23', '24', '25', '31', '32', '33', '34', '35', '41', '42', '43', '44', '45', '51', '52', '53', '54', '55']\n"
     ]
    },
    {
     "name": "stderr",
     "output_type": "stream",
     "text": [
      "C:\\Users\\leofl\\AppData\\Local\\Temp\\ipykernel_15060\\4263599654.py:103: FutureWarning: The current default of copy=False will change to copy=True in 1.7. Set the value of copy explicitly to avoid this warning\n",
      "  pre_data = epochs_pre.copy().pick(['Pz']).get_data()\n",
      "C:\\Users\\leofl\\AppData\\Local\\Temp\\ipykernel_15060\\4263599654.py:104: FutureWarning: The current default of copy=False will change to copy=True in 1.7. Set the value of copy explicitly to avoid this warning\n",
      "  post_data = epochs_post.copy().pick(['Pz']).get_data()\n",
      "C:\\Users\\leofl\\AppData\\Local\\Temp\\ipykernel_15060\\4263599654.py:8: RuntimeWarning: Data file name in EEG.data (8_P3_shifted_ds_reref_ucbip_hpfilt_ica_weighted.fdt) is incorrect, the file name must have changed on disk, using the correct file name (p3_8.fdt).\n",
      "  raw_eeg = mne.io.read_raw_eeglab(file_path, preload=True)\n"
     ]
    },
    {
     "name": "stdout",
     "output_type": "stream",
     "text": [
      "Not setting metadata\n",
      "200 matching events found\n",
      "No baseline correction applied\n",
      "0 projection items activated\n",
      "Using data from preloaded Raw for 200 events and 309 original time points ...\n",
      "0 bad epochs dropped\n",
      "Reading C:\\Users\\leofl\\OneDrive\\Desktop\\ERP Data\\Project Cygnus\\p3_9.fdt\n",
      "Reading 0 ... 90367  =      0.000 ...   352.996 secs...\n",
      "Used Annotations descriptions: ['11', '12', '13', '14', '15', '201', '202', '21', '22', '23', '24', '25', '31', '32', '33', '34', '35', '41', '42', '43', '44', '45', '51', '52', '53', '54', '55']\n",
      "Not setting metadata\n",
      "185 matching events found\n",
      "No baseline correction applied\n",
      "0 projection items activated\n",
      "Using data from preloaded Raw for 185 events and 309 original time points ...\n",
      "0 bad epochs dropped\n"
     ]
    },
    {
     "name": "stderr",
     "output_type": "stream",
     "text": [
      "C:\\Users\\leofl\\AppData\\Local\\Temp\\ipykernel_15060\\4263599654.py:103: FutureWarning: The current default of copy=False will change to copy=True in 1.7. Set the value of copy explicitly to avoid this warning\n",
      "  pre_data = epochs_pre.copy().pick(['Pz']).get_data()\n",
      "C:\\Users\\leofl\\AppData\\Local\\Temp\\ipykernel_15060\\4263599654.py:104: FutureWarning: The current default of copy=False will change to copy=True in 1.7. Set the value of copy explicitly to avoid this warning\n",
      "  post_data = epochs_post.copy().pick(['Pz']).get_data()\n",
      "C:\\Users\\leofl\\AppData\\Local\\Temp\\ipykernel_15060\\4263599654.py:8: RuntimeWarning: Data file name in EEG.data (9_P3_shifted_ds_reref_ucbip_hpfilt_ica_weighted.fdt) is incorrect, the file name must have changed on disk, using the correct file name (p3_9.fdt).\n",
      "  raw_eeg = mne.io.read_raw_eeglab(file_path, preload=True)\n",
      "C:\\Users\\leofl\\AppData\\Local\\Temp\\ipykernel_15060\\4263599654.py:103: FutureWarning: The current default of copy=False will change to copy=True in 1.7. Set the value of copy explicitly to avoid this warning\n",
      "  pre_data = epochs_pre.copy().pick(['Pz']).get_data()\n",
      "C:\\Users\\leofl\\AppData\\Local\\Temp\\ipykernel_15060\\4263599654.py:104: FutureWarning: The current default of copy=False will change to copy=True in 1.7. Set the value of copy explicitly to avoid this warning\n",
      "  post_data = epochs_post.copy().pick(['Pz']).get_data()\n"
     ]
    }
   ],
   "source": [
    "def process_eeg_files(folder_path):\n",
    "    y_frequencies_dict = {}\n",
    "    \n",
    "    # Loop over all .set files in the folder\n",
    "    for filename in os.listdir(folder_path):\n",
    "        if filename.endswith('.set'):\n",
    "            file_path = os.path.join(folder_path, filename)\n",
    "            raw_eeg = mne.io.read_raw_eeglab(file_path, preload=True)\n",
    "            \n",
    "            # Preprocess the raw EEG data\n",
    "            raw_eeg = preprocess_raw_eeg(raw_eeg)\n",
    "            \n",
    "            # Extract and modify events\n",
    "            events, event_id = extract_and_modify_events(raw_eeg)\n",
    "            \n",
    "            # Create epochs\n",
    "            epochs = create_epochs(raw_eeg, events, event_id)\n",
    "            \n",
    "            # Separate epochs into pre and post-stimulus windows\n",
    "            epochs_pre, epochs_post = separate_epochs(epochs)\n",
    "            \n",
    "            # Perform FFT on the Pz channel data\n",
    "            yf_avg_pre, yf_avg_post = perform_fft_on_epochs(epochs_pre, epochs_post)\n",
    "            \n",
    "            # Update the dictionary with the results\n",
    "            y_frequencies_dict[filename.split('.')[0]] = [yf_avg_pre, yf_avg_post]\n",
    "    \n",
    "    return y_frequencies_dict\n",
    "\n",
    "def preprocess_raw_eeg(raw_eeg):\n",
    "    \"\"\"\n",
    "    Preprocess the raw EEG data by setting the montage, renaming channels, and setting channel types.\n",
    "    \"\"\"\n",
    "    # Set standard 10-20 montage\n",
    "    montage = mne.channels.make_standard_montage('standard_1020')\n",
    "    raw_eeg.rename_channels({\"FP1\": 'Fp1', 'FP2': 'Fp2'})\n",
    "    raw_eeg.set_channel_types({\n",
    "        'HEOG_left': 'eog', 'HEOG_right': 'eog',\n",
    "        'VEOG_lower': 'eog', '(uncorr) HEOG': 'eog',\n",
    "        '(uncorr) VEOG': 'eog'\n",
    "    })\n",
    "    raw_eeg.set_montage(montage)\n",
    "    return raw_eeg\n",
    "\n",
    "def extract_and_modify_events(raw_eeg):\n",
    "    \"\"\"\n",
    "    Extract events from annotations and modify event IDs according to specific conditions.\n",
    "    \"\"\"\n",
    "    events, _ = mne.events_from_annotations(raw_eeg)\n",
    "    \n",
    "    # Remove events with IDs 6 and 7\n",
    "    events = events[~np.isin(events[:, 2], [6, 7])]\n",
    "    \n",
    "    # Define target and non-target event IDs\n",
    "    target_ids = [1, 9, 15, 21, 27]\n",
    "    nontarget_ids = [2, 3, 4, 5, 8, 10, 11, 12, 13, 14,\n",
    "                     16, 17, 18, 19, 20, 22, 23, 24, 25, 26]\n",
    "    \n",
    "    # Modify event IDs based on conditions\n",
    "    for i in range(len(events)):\n",
    "        current_id = events[i, 2]\n",
    "        if current_id in target_ids:\n",
    "            events[i, 2] = 100  # 'frequent_rare'\n",
    "        elif (i > 0 and current_id in nontarget_ids and\n",
    "              events[i - 1, 2] == 100):\n",
    "            events[i, 2] = 200  # 'rare_frequent'\n",
    "        elif (i > 0 and current_id in nontarget_ids and\n",
    "              events[i - 1, 2] in [200, 300]):\n",
    "            events[i, 2] = 300  # 'frequent_frequent'\n",
    "    \n",
    "    # Define new event IDs\n",
    "    event_id = {\n",
    "        \"frequent_rare\": 100,\n",
    "        \"rare_frequent\": 200,\n",
    "        \"frequent_frequent\": 300\n",
    "    }\n",
    "    return events, event_id\n",
    "\n",
    "def create_epochs(raw_eeg, events, event_id):\n",
    "    \"\"\"\n",
    "    Create epochs from the raw EEG data using the modified events.\n",
    "    \"\"\"\n",
    "    epochs = mne.Epochs(\n",
    "        raw_eeg, events=events, event_id=event_id,\n",
    "        tmin=-0.6, tmax=0.6, picks=['Pz'],\n",
    "        baseline=None, preload=True\n",
    "    )\n",
    "    return epochs\n",
    "\n",
    "def separate_epochs(epochs):\n",
    "    \"\"\"\n",
    "    Separate epochs into pre-stimulus and post-stimulus windows.\n",
    "    \"\"\"\n",
    "    epochs_pre = epochs.copy().crop(tmin=-0.6, tmax=0)\n",
    "    epochs_post = epochs.copy().crop(tmin=0, tmax=0.6)\n",
    "    return epochs_pre, epochs_post\n",
    "\n",
    "def perform_fft_on_epochs(epochs_pre, epochs_post):\n",
    "    \"\"\"\n",
    "    Perform FFT on the Pz channel data of pre and post-stimulus epochs.\n",
    "    \"\"\"\n",
    "    # Extract Pz channel data\n",
    "    pre_data = epochs_pre.copy().pick(['Pz']).get_data()\n",
    "    post_data = epochs_post.copy().pick(['Pz']).get_data()\n",
    "    \n",
    "    # Average over epochs\n",
    "    pre_data_mean = pre_data.mean(axis=0)[0]\n",
    "    post_data_mean = post_data.mean(axis=0)[0]\n",
    "    \n",
    "    # Perform FFT\n",
    "    yf_avg_pre = np.abs(fft(pre_data_mean))/ len(pre_data_mean)\n",
    "    yf_avg_post = np.abs(fft(post_data_mean))/ len(post_data_mean)\n",
    "    return yf_avg_pre, yf_avg_post\n",
    "\n",
    "def compute_erp(epochs): \n",
    "    erp = epochs.average() \n",
    "    return erp\n",
    "\n",
    "def perform_fft_on_erp(erp):\n",
    "    data = erp.pick(['Pz']).get_data()\n",
    "    erp_mean = data.mean(axis=0)[0]\n",
    "    erp_avg =  np.abs(fft(erp_mean))/ len(erp_mean)\n",
    "    return erp_avg\n",
    "\n",
    "\n",
    "def get_xf(epoch_window):\n",
    "    sample_rate = epoch_window.info['sfreq']\n",
    "    data = epoch_window.get_data()\n",
    "    N = data.shape[2]\n",
    "    xf = fftfreq(N, 1/sample_rate)\n",
    "    return xf\n",
    "\n",
    "if __name__ == '__main__':\n",
    "    folder_path = \"C:/Users/leofl/OneDrive/Desktop/ERP Data/Project Cygnus/\"\n",
    "    y_frequencies_dict = process_eeg_files(folder_path)\n",
    "    # Now y_frequencies_dict contains the FFT results for each file\n"
   ]
  },
  {
   "cell_type": "code",
   "execution_count": 46,
   "metadata": {},
   "outputs": [],
   "source": [
    "def graph2_partA(folder_path):\n",
    "    \"\"\"\n",
    "    Create a master dictionary with pre- and post-stimulus epochs for each condition.\n",
    "\n",
    "    Parameters:\n",
    "    folder_path (str): Path to the folder containing .set files.\n",
    "\n",
    "    Returns:\n",
    "    dict: A dictionary with filenames as keys and condition-based epochs as values.\n",
    "    \"\"\"\n",
    "    master_dictionary = {}\n",
    "    \n",
    "    for filename in os.listdir(folder_path):\n",
    "        if filename.endswith('.set'):\n",
    "            file_path = os.path.join(folder_path, filename)\n",
    "            raw_eeg = mne.io.read_raw_eeglab(file_path, preload=True)\n",
    "\n",
    "            # Preprocess the raw EEG data\n",
    "            raw_eeg = preprocess_raw_eeg(raw_eeg)\n",
    "            \n",
    "            # Extract and modify events\n",
    "            events, event_id = extract_and_modify_events(raw_eeg)\n",
    "            \n",
    "            # Create epochs\n",
    "            epochs = create_epochs(raw_eeg, events, event_id)\n",
    "\n",
    "            # Separate epochs into pre and post-stimulus windows\n",
    "            epochs_pre, epochs_post = separate_epochs(epochs)\n",
    "\n",
    "            # Initialize dictionary for this file\n",
    "            dictionary = {}\n",
    "\n",
    "            post_freq_rare = epochs_post['frequent_rare']\n",
    "            pre_freq_rare = epochs_pre['frequent_rare'] \n",
    "\n",
    "            post_rare_freq = epochs_post['rare_frequent']\n",
    "            pre_rare_freq = epochs_pre['rare_frequent']\n",
    "\n",
    "            post_freq_freq = epochs_post['frequent_frequent']\n",
    "            pre_freq_freq = epochs_pre['frequent_frequent']\n",
    "\n",
    "            dictionary.update({\"post_freq_rare\" : post_freq_rare, \n",
    "                               \"pre_freq_rare\" : pre_freq_rare,\n",
    "                               \"post_rare_freq\" : post_rare_freq,\n",
    "                               \"pre_rare_freq\" : pre_rare_freq, \n",
    "                               \"post_freq_freq\" : post_freq_freq,\n",
    "                               \"pre_freq_freq\" : pre_freq_freq\n",
    "                               })\n",
    "\n",
    "            # Update the master dictionary with the results\n",
    "            master_dictionary[filename.split('.')[0]] = dictionary\n",
    "\n",
    "    return master_dictionary\n"
   ]
  },
  {
   "cell_type": "code",
   "execution_count": 47,
   "metadata": {},
   "outputs": [
    {
     "name": "stdout",
     "output_type": "stream",
     "text": [
      "Reading C:\\Users\\leofl\\OneDrive\\Desktop\\ERP Data\\Project Cygnus\\p3_1.fdt\n",
      "Reading 0 ... 119551  =      0.000 ...   466.996 secs...\n"
     ]
    },
    {
     "name": "stdout",
     "output_type": "stream",
     "text": [
      "Used Annotations descriptions: ['11', '12', '13', '14', '15', '201', '202', '21', '22', '23', '24', '25', '31', '32', '33', '34', '35', '41', '42', '43', '44', '45', '51', '52', '53', '54', '55']\n",
      "Not setting metadata\n",
      "200 matching events found\n",
      "No baseline correction applied\n",
      "0 projection items activated\n",
      "Using data from preloaded Raw for 200 events and 309 original time points ...\n",
      "0 bad epochs dropped\n"
     ]
    },
    {
     "name": "stderr",
     "output_type": "stream",
     "text": [
      "C:\\Users\\leofl\\AppData\\Local\\Temp\\ipykernel_15060\\3672110234.py:16: RuntimeWarning: Data file name in EEG.data (1_P3_shifted_ds_reref_ucbip_hpfilt_ica_weighted.fdt) is incorrect, the file name must have changed on disk, using the correct file name (p3_1.fdt).\n",
      "  raw_eeg = mne.io.read_raw_eeglab(file_path, preload=True)\n"
     ]
    },
    {
     "name": "stdout",
     "output_type": "stream",
     "text": [
      "Reading C:\\Users\\leofl\\OneDrive\\Desktop\\ERP Data\\Project Cygnus\\p3_10.fdt\n",
      "Reading 0 ... 93951  =      0.000 ...   366.996 secs...\n",
      "Used Annotations descriptions: ['11', '12', '13', '14', '15', '201', '202', '21', '22', '23', '24', '25', '31', '32', '33', '34', '35', '41', '42', '43', '44', '45', '51', '52', '53', '54', '55']\n",
      "Not setting metadata\n",
      "194 matching events found\n",
      "No baseline correction applied\n",
      "0 projection items activated\n",
      "Using data from preloaded Raw for 194 events and 309 original time points ...\n",
      "0 bad epochs dropped\n"
     ]
    },
    {
     "name": "stderr",
     "output_type": "stream",
     "text": [
      "C:\\Users\\leofl\\AppData\\Local\\Temp\\ipykernel_15060\\3672110234.py:16: RuntimeWarning: Data file name in EEG.data (10_P3_shifted_ds_reref_ucbip_hpfilt_ica_weighted.fdt) is incorrect, the file name must have changed on disk, using the correct file name (p3_10.fdt).\n",
      "  raw_eeg = mne.io.read_raw_eeglab(file_path, preload=True)\n"
     ]
    },
    {
     "name": "stdout",
     "output_type": "stream",
     "text": [
      "Reading C:\\Users\\leofl\\OneDrive\\Desktop\\ERP Data\\Project Cygnus\\p3_11.fdt\n",
      "Reading 0 ... 94207  =      0.000 ...   367.996 secs...\n",
      "Used Annotations descriptions: ['11', '12', '13', '14', '15', '201', '202', '21', '22', '23', '24', '25', '31', '32', '33', '34', '35', '41', '42', '43', '44', '45', '51', '52', '53', '54', '55']\n",
      "Not setting metadata\n",
      "192 matching events found\n",
      "No baseline correction applied\n",
      "0 projection items activated\n",
      "Using data from preloaded Raw for 192 events and 309 original time points ...\n",
      "0 bad epochs dropped\n"
     ]
    },
    {
     "name": "stderr",
     "output_type": "stream",
     "text": [
      "C:\\Users\\leofl\\AppData\\Local\\Temp\\ipykernel_15060\\3672110234.py:16: RuntimeWarning: Data file name in EEG.data (11_P3_shifted_ds_reref_ucbip_hpfilt_ica_weighted.fdt) is incorrect, the file name must have changed on disk, using the correct file name (p3_11.fdt).\n",
      "  raw_eeg = mne.io.read_raw_eeglab(file_path, preload=True)\n"
     ]
    },
    {
     "name": "stdout",
     "output_type": "stream",
     "text": [
      "Reading C:\\Users\\leofl\\OneDrive\\Desktop\\ERP Data\\Project Cygnus\\p3_12.fdt\n",
      "Reading 0 ... 86271  =      0.000 ...   336.996 secs...\n",
      "Used Annotations descriptions: ['11', '12', '13', '14', '15', '201', '202', '21', '22', '23', '24', '25', '31', '32', '33', '34', '35', '41', '42', '43', '44', '45', '51', '52', '53', '54', '55']\n",
      "Not setting metadata\n",
      "189 matching events found\n",
      "No baseline correction applied\n",
      "0 projection items activated\n",
      "Using data from preloaded Raw for 189 events and 309 original time points ...\n",
      "0 bad epochs dropped\n"
     ]
    },
    {
     "name": "stderr",
     "output_type": "stream",
     "text": [
      "C:\\Users\\leofl\\AppData\\Local\\Temp\\ipykernel_15060\\3672110234.py:16: RuntimeWarning: Data file name in EEG.data (12_P3_shifted_ds_reref_ucbip_hpfilt_ica_weighted.fdt) is incorrect, the file name must have changed on disk, using the correct file name (p3_12.fdt).\n",
      "  raw_eeg = mne.io.read_raw_eeglab(file_path, preload=True)\n"
     ]
    },
    {
     "name": "stdout",
     "output_type": "stream",
     "text": [
      "Reading C:\\Users\\leofl\\OneDrive\\Desktop\\ERP Data\\Project Cygnus\\p3_13.fdt\n",
      "Reading 0 ... 96511  =      0.000 ...   376.996 secs...\n",
      "Used Annotations descriptions: ['11', '12', '13', '14', '15', '201', '202', '21', '22', '23', '24', '25', '31', '32', '33', '34', '35', '41', '42', '43', '44', '45', '51', '52', '53', '54', '55']\n",
      "Not setting metadata\n",
      "193 matching events found\n",
      "No baseline correction applied\n",
      "0 projection items activated\n",
      "Using data from preloaded Raw for 193 events and 309 original time points ...\n",
      "0 bad epochs dropped\n"
     ]
    },
    {
     "name": "stderr",
     "output_type": "stream",
     "text": [
      "C:\\Users\\leofl\\AppData\\Local\\Temp\\ipykernel_15060\\3672110234.py:16: RuntimeWarning: Data file name in EEG.data (13_P3_shifted_ds_reref_ucbip_hpfilt_ica_weighted.fdt) is incorrect, the file name must have changed on disk, using the correct file name (p3_13.fdt).\n",
      "  raw_eeg = mne.io.read_raw_eeglab(file_path, preload=True)\n"
     ]
    },
    {
     "name": "stdout",
     "output_type": "stream",
     "text": [
      "Reading C:\\Users\\leofl\\OneDrive\\Desktop\\ERP Data\\Project Cygnus\\p3_14.fdt\n",
      "Reading 0 ... 86783  =      0.000 ...   338.996 secs...\n",
      "Used Annotations descriptions: ['11', '12', '13', '14', '15', '201', '202', '21', '22', '23', '24', '25', '31', '32', '33', '34', '35', '41', '42', '43', '44', '45', '51', '52', '53', '54', '55']\n",
      "Not setting metadata\n",
      "200 matching events found\n",
      "No baseline correction applied\n",
      "0 projection items activated\n",
      "Using data from preloaded Raw for 200 events and 309 original time points ...\n",
      "0 bad epochs dropped\n",
      "Reading C:\\Users\\leofl\\OneDrive\\Desktop\\ERP Data\\Project Cygnus\\p3_15.fdt\n"
     ]
    },
    {
     "name": "stderr",
     "output_type": "stream",
     "text": [
      "C:\\Users\\leofl\\AppData\\Local\\Temp\\ipykernel_15060\\3672110234.py:16: RuntimeWarning: Data file name in EEG.data (14_P3_shifted_ds_reref_ucbip_hpfilt_ica_weighted.fdt) is incorrect, the file name must have changed on disk, using the correct file name (p3_14.fdt).\n",
      "  raw_eeg = mne.io.read_raw_eeglab(file_path, preload=True)\n",
      "C:\\Users\\leofl\\AppData\\Local\\Temp\\ipykernel_15060\\3672110234.py:16: RuntimeWarning: Data file name in EEG.data (15_P3_shifted_ds_reref_ucbip_hpfilt_ica_weighted.fdt) is incorrect, the file name must have changed on disk, using the correct file name (p3_15.fdt).\n",
      "  raw_eeg = mne.io.read_raw_eeglab(file_path, preload=True)\n"
     ]
    },
    {
     "name": "stdout",
     "output_type": "stream",
     "text": [
      "Reading 0 ... 93183  =      0.000 ...   363.996 secs...\n",
      "Used Annotations descriptions: ['11', '12', '13', '14', '15', '201', '202', '21', '22', '23', '24', '25', '31', '32', '33', '34', '35', '41', '42', '43', '44', '45', '51', '52', '53', '54', '55']\n",
      "Not setting metadata\n",
      "199 matching events found\n",
      "No baseline correction applied\n",
      "0 projection items activated\n",
      "Using data from preloaded Raw for 199 events and 309 original time points ...\n",
      "0 bad epochs dropped\n",
      "Reading C:\\Users\\leofl\\OneDrive\\Desktop\\ERP Data\\Project Cygnus\\p3_16.fdt\n",
      "Reading 0 ... 106239  =      0.000 ...   414.996 secs...\n",
      "Used Annotations descriptions: ['11', '12', '13', '14', '15', '201', '202', '21', '22', '23', '24', '25', '31', '32', '33', '34', '35', '41', '42', '43', '44', '45', '51', '52', '53', '54', '55']\n",
      "Not setting metadata\n",
      "200 matching events found\n",
      "No baseline correction applied\n",
      "0 projection items activated\n",
      "Using data from preloaded Raw for 200 events and 309 original time points ...\n",
      "0 bad epochs dropped\n"
     ]
    },
    {
     "name": "stderr",
     "output_type": "stream",
     "text": [
      "C:\\Users\\leofl\\AppData\\Local\\Temp\\ipykernel_15060\\3672110234.py:16: RuntimeWarning: Data file name in EEG.data (16_P3_shifted_ds_reref_ucbip_hpfilt_ica_weighted.fdt) is incorrect, the file name must have changed on disk, using the correct file name (p3_16.fdt).\n",
      "  raw_eeg = mne.io.read_raw_eeglab(file_path, preload=True)\n"
     ]
    },
    {
     "name": "stdout",
     "output_type": "stream",
     "text": [
      "Reading C:\\Users\\leofl\\OneDrive\\Desktop\\ERP Data\\Project Cygnus\\p3_17.fdt\n",
      "Reading 0 ... 100351  =      0.000 ...   391.996 secs...\n",
      "Used Annotations descriptions: ['11', '12', '13', '14', '15', '201', '202', '21', '22', '23', '24', '25', '31', '32', '33', '34', '35', '41', '42', '43', '44', '45', '51', '52', '53', '54', '55']\n",
      "Not setting metadata\n",
      "193 matching events found\n",
      "No baseline correction applied\n",
      "0 projection items activated\n",
      "Using data from preloaded Raw for 193 events and 309 original time points ...\n",
      "0 bad epochs dropped\n"
     ]
    },
    {
     "name": "stderr",
     "output_type": "stream",
     "text": [
      "C:\\Users\\leofl\\AppData\\Local\\Temp\\ipykernel_15060\\3672110234.py:16: RuntimeWarning: Data file name in EEG.data (17_P3_shifted_ds_reref_ucbip_hpfilt_ica_weighted.fdt) is incorrect, the file name must have changed on disk, using the correct file name (p3_17.fdt).\n",
      "  raw_eeg = mne.io.read_raw_eeglab(file_path, preload=True)\n"
     ]
    },
    {
     "name": "stdout",
     "output_type": "stream",
     "text": [
      "Reading C:\\Users\\leofl\\OneDrive\\Desktop\\ERP Data\\Project Cygnus\\p3_18.fdt\n",
      "Reading 0 ... 101631  =      0.000 ...   396.996 secs...\n",
      "Used Annotations descriptions: ['11', '12', '13', '14', '15', '201', '202', '21', '22', '23', '24', '25', '31', '32', '33', '34', '35', '41', '42', '43', '44', '45', '51', '52', '53', '54', '55']\n",
      "Not setting metadata\n",
      "196 matching events found\n",
      "No baseline correction applied\n",
      "0 projection items activated\n",
      "Using data from preloaded Raw for 196 events and 309 original time points ...\n",
      "0 bad epochs dropped\n"
     ]
    },
    {
     "name": "stderr",
     "output_type": "stream",
     "text": [
      "C:\\Users\\leofl\\AppData\\Local\\Temp\\ipykernel_15060\\3672110234.py:16: RuntimeWarning: Data file name in EEG.data (18_P3_shifted_ds_reref_ucbip_hpfilt_ica_weighted.fdt) is incorrect, the file name must have changed on disk, using the correct file name (p3_18.fdt).\n",
      "  raw_eeg = mne.io.read_raw_eeglab(file_path, preload=True)\n"
     ]
    },
    {
     "name": "stdout",
     "output_type": "stream",
     "text": [
      "Reading C:\\Users\\leofl\\OneDrive\\Desktop\\ERP Data\\Project Cygnus\\p3_19.fdt\n",
      "Reading 0 ... 94207  =      0.000 ...   367.996 secs...\n",
      "Used Annotations descriptions: ['11', '12', '13', '14', '15', '201', '202', '21', '22', '23', '24', '25', '31', '32', '33', '34', '35', '41', '42', '43', '44', '45', '51', '52', '53', '54', '55']\n",
      "Not setting metadata\n",
      "200 matching events found\n",
      "No baseline correction applied\n",
      "0 projection items activated\n",
      "Using data from preloaded Raw for 200 events and 309 original time points ...\n",
      "0 bad epochs dropped\n"
     ]
    },
    {
     "name": "stderr",
     "output_type": "stream",
     "text": [
      "C:\\Users\\leofl\\AppData\\Local\\Temp\\ipykernel_15060\\3672110234.py:16: RuntimeWarning: Data file name in EEG.data (19_P3_shifted_ds_reref_ucbip_hpfilt_ica_weighted.fdt) is incorrect, the file name must have changed on disk, using the correct file name (p3_19.fdt).\n",
      "  raw_eeg = mne.io.read_raw_eeglab(file_path, preload=True)\n"
     ]
    },
    {
     "name": "stdout",
     "output_type": "stream",
     "text": [
      "Reading C:\\Users\\leofl\\OneDrive\\Desktop\\ERP Data\\Project Cygnus\\p3_2.fdt\n",
      "Reading 0 ... 103679  =      0.000 ...   404.996 secs...\n",
      "Used Annotations descriptions: ['11', '12', '13', '14', '15', '201', '202', '21', '22', '23', '24', '25', '31', '32', '33', '34', '35', '41', '42', '43', '44', '45', '51', '52', '53', '54', '55']\n",
      "Not setting metadata\n",
      "196 matching events found\n",
      "No baseline correction applied\n",
      "0 projection items activated\n",
      "Using data from preloaded Raw for 196 events and 309 original time points ...\n",
      "0 bad epochs dropped\n"
     ]
    },
    {
     "name": "stderr",
     "output_type": "stream",
     "text": [
      "C:\\Users\\leofl\\AppData\\Local\\Temp\\ipykernel_15060\\3672110234.py:16: RuntimeWarning: Data file name in EEG.data (2_P3_shifted_ds_reref_ucbip_hpfilt_ica_weighted.fdt) is incorrect, the file name must have changed on disk, using the correct file name (p3_2.fdt).\n",
      "  raw_eeg = mne.io.read_raw_eeglab(file_path, preload=True)\n"
     ]
    },
    {
     "name": "stdout",
     "output_type": "stream",
     "text": [
      "Reading C:\\Users\\leofl\\OneDrive\\Desktop\\ERP Data\\Project Cygnus\\p3_20.fdt\n",
      "Reading 0 ... 94207  =      0.000 ...   367.996 secs...\n",
      "Used Annotations descriptions: ['11', '12', '13', '14', '15', '201', '202', '21', '22', '23', '24', '25', '31', '32', '33', '34', '35', '41', '42', '43', '44', '45', '51', '52', '53', '54', '55']\n",
      "Not setting metadata\n",
      "190 matching events found\n",
      "No baseline correction applied\n",
      "0 projection items activated\n",
      "Using data from preloaded Raw for 190 events and 309 original time points ...\n",
      "0 bad epochs dropped\n"
     ]
    },
    {
     "name": "stderr",
     "output_type": "stream",
     "text": [
      "C:\\Users\\leofl\\AppData\\Local\\Temp\\ipykernel_15060\\3672110234.py:16: RuntimeWarning: Data file name in EEG.data (20_P3_shifted_ds_reref_ucbip_hpfilt_ica_weighted.fdt) is incorrect, the file name must have changed on disk, using the correct file name (p3_20.fdt).\n",
      "  raw_eeg = mne.io.read_raw_eeglab(file_path, preload=True)\n"
     ]
    },
    {
     "name": "stdout",
     "output_type": "stream",
     "text": [
      "Reading C:\\Users\\leofl\\OneDrive\\Desktop\\ERP Data\\Project Cygnus\\p3_3.fdt\n",
      "Reading 0 ... 96511  =      0.000 ...   376.996 secs...\n",
      "Used Annotations descriptions: ['11', '12', '13', '14', '15', '201', '202', '21', '22', '23', '24', '25', '31', '32', '33', '34', '35', '41', '42', '43', '44', '45', '51', '52', '53', '54', '55']\n",
      "Not setting metadata\n",
      "178 matching events found\n",
      "No baseline correction applied\n",
      "0 projection items activated\n",
      "Using data from preloaded Raw for 178 events and 309 original time points ...\n",
      "0 bad epochs dropped\n"
     ]
    },
    {
     "name": "stderr",
     "output_type": "stream",
     "text": [
      "C:\\Users\\leofl\\AppData\\Local\\Temp\\ipykernel_15060\\3672110234.py:16: RuntimeWarning: Data file name in EEG.data (3_P3_shifted_ds_reref_ucbip_hpfilt_ica_weighted.fdt) is incorrect, the file name must have changed on disk, using the correct file name (p3_3.fdt).\n",
      "  raw_eeg = mne.io.read_raw_eeglab(file_path, preload=True)\n"
     ]
    },
    {
     "name": "stdout",
     "output_type": "stream",
     "text": [
      "Reading C:\\Users\\leofl\\OneDrive\\Desktop\\ERP Data\\Project Cygnus\\p3_4.fdt\n",
      "Reading 0 ... 139263  =      0.000 ...   543.996 secs...\n",
      "Used Annotations descriptions: ['11', '12', '13', '14', '15', '201', '202', '21', '22', '23', '24', '25', '31', '32', '33', '34', '35', '41', '42', '43', '44', '45', '51', '52', '53', '54', '55']\n",
      "Not setting metadata\n",
      "198 matching events found\n",
      "No baseline correction applied\n",
      "0 projection items activated\n",
      "Using data from preloaded Raw for 198 events and 309 original time points ...\n",
      "0 bad epochs dropped\n"
     ]
    },
    {
     "name": "stderr",
     "output_type": "stream",
     "text": [
      "C:\\Users\\leofl\\AppData\\Local\\Temp\\ipykernel_15060\\3672110234.py:16: RuntimeWarning: Data file name in EEG.data (4_P3_shifted_ds_reref_ucbip_hpfilt_ica_weighted.fdt) is incorrect, the file name must have changed on disk, using the correct file name (p3_4.fdt).\n",
      "  raw_eeg = mne.io.read_raw_eeglab(file_path, preload=True)\n"
     ]
    },
    {
     "name": "stdout",
     "output_type": "stream",
     "text": [
      "Reading C:\\Users\\leofl\\OneDrive\\Desktop\\ERP Data\\Project Cygnus\\p3_5.fdt\n",
      "Reading 0 ... 97791  =      0.000 ...   381.996 secs...\n",
      "Used Annotations descriptions: ['11', '12', '13', '14', '15', '201', '202', '21', '22', '23', '24', '25', '31', '32', '33', '34', '35', '41', '42', '43', '44', '45', '51', '52', '53', '54', '55']\n",
      "Not setting metadata\n",
      "192 matching events found\n",
      "No baseline correction applied\n",
      "0 projection items activated\n",
      "Using data from preloaded Raw for 192 events and 309 original time points ...\n",
      "0 bad epochs dropped\n"
     ]
    },
    {
     "name": "stderr",
     "output_type": "stream",
     "text": [
      "C:\\Users\\leofl\\AppData\\Local\\Temp\\ipykernel_15060\\3672110234.py:16: RuntimeWarning: Data file name in EEG.data (5_P3_shifted_ds_reref_ucbip_hpfilt_ica_weighted.fdt) is incorrect, the file name must have changed on disk, using the correct file name (p3_5.fdt).\n",
      "  raw_eeg = mne.io.read_raw_eeglab(file_path, preload=True)\n"
     ]
    },
    {
     "name": "stdout",
     "output_type": "stream",
     "text": [
      "Reading C:\\Users\\leofl\\OneDrive\\Desktop\\ERP Data\\Project Cygnus\\p3_6.fdt\n",
      "Reading 0 ... 83967  =      0.000 ...   327.996 secs...\n",
      "Used Annotations descriptions: ['11', '12', '13', '14', '15', '201', '202', '21', '22', '23', '24', '25', '31', '32', '33', '34', '35', '41', '42', '43', '44', '45', '51', '52', '53', '54', '55']\n",
      "Not setting metadata\n",
      "190 matching events found\n",
      "No baseline correction applied\n",
      "0 projection items activated\n",
      "Using data from preloaded Raw for 190 events and 309 original time points ...\n",
      "0 bad epochs dropped\n",
      "Reading C:\\Users\\leofl\\OneDrive\\Desktop\\ERP Data\\Project Cygnus\\p3_7.fdt\n"
     ]
    },
    {
     "name": "stderr",
     "output_type": "stream",
     "text": [
      "C:\\Users\\leofl\\AppData\\Local\\Temp\\ipykernel_15060\\3672110234.py:16: RuntimeWarning: Data file name in EEG.data (6_P3_shifted_ds_reref_ucbip_hpfilt_ica_weighted.fdt) is incorrect, the file name must have changed on disk, using the correct file name (p3_6.fdt).\n",
      "  raw_eeg = mne.io.read_raw_eeglab(file_path, preload=True)\n",
      "C:\\Users\\leofl\\AppData\\Local\\Temp\\ipykernel_15060\\3672110234.py:16: RuntimeWarning: Data file name in EEG.data (7_P3_shifted_ds_reref_ucbip_hpfilt_ica_weighted.fdt) is incorrect, the file name must have changed on disk, using the correct file name (p3_7.fdt).\n",
      "  raw_eeg = mne.io.read_raw_eeglab(file_path, preload=True)\n"
     ]
    },
    {
     "name": "stdout",
     "output_type": "stream",
     "text": [
      "Reading 0 ... 91135  =      0.000 ...   355.996 secs...\n",
      "Used Annotations descriptions: ['11', '12', '13', '14', '15', '201', '202', '21', '22', '23', '24', '25', '31', '32', '33', '34', '35', '41', '42', '43', '44', '45', '51', '52', '53', '54', '55']\n",
      "Not setting metadata\n",
      "197 matching events found\n",
      "No baseline correction applied\n",
      "0 projection items activated\n",
      "Using data from preloaded Raw for 197 events and 309 original time points ...\n",
      "0 bad epochs dropped\n",
      "Reading C:\\Users\\leofl\\OneDrive\\Desktop\\ERP Data\\Project Cygnus\\p3_8.fdt\n",
      "Reading 0 ... 117759  =      0.000 ...   459.996 secs...\n",
      "Used Annotations descriptions: ['11', '12', '13', '14', '15', '201', '202', '21', '22', '23', '24', '25', '31', '32', '33', '34', '35', '41', '42', '43', '44', '45', '51', '52', '53', '54', '55']\n",
      "Not setting metadata\n",
      "200 matching events found\n",
      "No baseline correction applied\n",
      "0 projection items activated\n",
      "Using data from preloaded Raw for 200 events and 309 original time points ...\n",
      "0 bad epochs dropped\n"
     ]
    },
    {
     "name": "stderr",
     "output_type": "stream",
     "text": [
      "C:\\Users\\leofl\\AppData\\Local\\Temp\\ipykernel_15060\\3672110234.py:16: RuntimeWarning: Data file name in EEG.data (8_P3_shifted_ds_reref_ucbip_hpfilt_ica_weighted.fdt) is incorrect, the file name must have changed on disk, using the correct file name (p3_8.fdt).\n",
      "  raw_eeg = mne.io.read_raw_eeglab(file_path, preload=True)\n"
     ]
    },
    {
     "name": "stdout",
     "output_type": "stream",
     "text": [
      "Reading C:\\Users\\leofl\\OneDrive\\Desktop\\ERP Data\\Project Cygnus\\p3_9.fdt\n",
      "Reading 0 ... 90367  =      0.000 ...   352.996 secs...\n",
      "Used Annotations descriptions: ['11', '12', '13', '14', '15', '201', '202', '21', '22', '23', '24', '25', '31', '32', '33', '34', '35', '41', '42', '43', '44', '45', '51', '52', '53', '54', '55']\n",
      "Not setting metadata\n",
      "185 matching events found\n",
      "No baseline correction applied\n",
      "0 projection items activated\n",
      "Using data from preloaded Raw for 185 events and 309 original time points ...\n",
      "0 bad epochs dropped\n"
     ]
    },
    {
     "name": "stderr",
     "output_type": "stream",
     "text": [
      "C:\\Users\\leofl\\AppData\\Local\\Temp\\ipykernel_15060\\3672110234.py:16: RuntimeWarning: Data file name in EEG.data (9_P3_shifted_ds_reref_ucbip_hpfilt_ica_weighted.fdt) is incorrect, the file name must have changed on disk, using the correct file name (p3_9.fdt).\n",
      "  raw_eeg = mne.io.read_raw_eeglab(file_path, preload=True)\n"
     ]
    }
   ],
   "source": [
    "if __name__ == '__main__':\n",
    "    folder_path = \"C:/Users/leofl/OneDrive/Desktop/ERP Data/Project Cygnus/\"\n",
    "    pip_dict = graph2_partA(folder_path)\n",
    "    # Now y_frequencies_dict contains the FFT results for each file"
   ]
  },
  {
   "cell_type": "code",
   "execution_count": 48,
   "metadata": {},
   "outputs": [
    {
     "name": "stdout",
     "output_type": "stream",
     "text": [
      "{'p3_1': {'post_freq_rare': <Epochs |  40 events (all good), 0 – 0.601562 s, baseline off, ~66 kB, data loaded,\n",
      " 'frequent_rare': 40>, 'pre_freq_rare': <Epochs |  40 events (all good), -0.601562 – 0 s, baseline off, ~66 kB, data loaded,\n",
      " 'frequent_rare': 40>, 'post_rare_freq': <Epochs |  33 events (all good), 0 – 0.601562 s, baseline off, ~58 kB, data loaded,\n",
      " 'rare_frequent': 33>, 'pre_rare_freq': <Epochs |  33 events (all good), -0.601562 – 0 s, baseline off, ~58 kB, data loaded,\n",
      " 'rare_frequent': 33>, 'post_freq_freq': <Epochs |  127 events (all good), 0 – 0.601562 s, baseline off, ~171 kB, data loaded,\n",
      " 'frequent_frequent': 127>, 'pre_freq_freq': <Epochs |  127 events (all good), -0.601562 – 0 s, baseline off, ~171 kB, data loaded,\n",
      " 'frequent_frequent': 127>}, 'p3_10': {'post_freq_rare': <Epochs |  40 events (all good), 0 – 0.601562 s, baseline off, ~66 kB, data loaded,\n",
      " 'frequent_rare': 40>, 'pre_freq_rare': <Epochs |  40 events (all good), -0.601562 – 0 s, baseline off, ~66 kB, data loaded,\n",
      " 'frequent_rare': 40>, 'post_rare_freq': <Epochs |  33 events (all good), 0 – 0.601562 s, baseline off, ~58 kB, data loaded,\n",
      " 'rare_frequent': 33>, 'pre_rare_freq': <Epochs |  33 events (all good), -0.601562 – 0 s, baseline off, ~58 kB, data loaded,\n",
      " 'rare_frequent': 33>, 'post_freq_freq': <Epochs |  121 events (all good), 0 – 0.601562 s, baseline off, ~164 kB, data loaded,\n",
      " 'frequent_frequent': 121>, 'pre_freq_freq': <Epochs |  121 events (all good), -0.601562 – 0 s, baseline off, ~164 kB, data loaded,\n",
      " 'frequent_frequent': 121>}, 'p3_11': {'post_freq_rare': <Epochs |  40 events (all good), 0 – 0.601562 s, baseline off, ~66 kB, data loaded,\n",
      " 'frequent_rare': 40>, 'pre_freq_rare': <Epochs |  40 events (all good), -0.601562 – 0 s, baseline off, ~66 kB, data loaded,\n",
      " 'frequent_rare': 40>, 'post_rare_freq': <Epochs |  32 events (all good), 0 – 0.601562 s, baseline off, ~56 kB, data loaded,\n",
      " 'rare_frequent': 32>, 'pre_rare_freq': <Epochs |  32 events (all good), -0.601562 – 0 s, baseline off, ~56 kB, data loaded,\n",
      " 'rare_frequent': 32>, 'post_freq_freq': <Epochs |  120 events (all good), 0 – 0.601562 s, baseline off, ~163 kB, data loaded,\n",
      " 'frequent_frequent': 120>, 'pre_freq_freq': <Epochs |  120 events (all good), -0.601562 – 0 s, baseline off, ~163 kB, data loaded,\n",
      " 'frequent_frequent': 120>}, 'p3_12': {'post_freq_rare': <Epochs |  40 events (all good), 0 – 0.601562 s, baseline off, ~66 kB, data loaded,\n",
      " 'frequent_rare': 40>, 'pre_freq_rare': <Epochs |  40 events (all good), -0.601562 – 0 s, baseline off, ~66 kB, data loaded,\n",
      " 'frequent_rare': 40>, 'post_rare_freq': <Epochs |  31 events (all good), 0 – 0.601562 s, baseline off, ~55 kB, data loaded,\n",
      " 'rare_frequent': 31>, 'pre_rare_freq': <Epochs |  31 events (all good), -0.601562 – 0 s, baseline off, ~55 kB, data loaded,\n",
      " 'rare_frequent': 31>, 'post_freq_freq': <Epochs |  118 events (all good), 0 – 0.601562 s, baseline off, ~161 kB, data loaded,\n",
      " 'frequent_frequent': 118>, 'pre_freq_freq': <Epochs |  118 events (all good), -0.601562 – 0 s, baseline off, ~161 kB, data loaded,\n",
      " 'frequent_frequent': 118>}, 'p3_13': {'post_freq_rare': <Epochs |  40 events (all good), 0 – 0.601562 s, baseline off, ~66 kB, data loaded,\n",
      " 'frequent_rare': 40>, 'pre_freq_rare': <Epochs |  40 events (all good), -0.601562 – 0 s, baseline off, ~66 kB, data loaded,\n",
      " 'frequent_rare': 40>, 'post_rare_freq': <Epochs |  30 events (all good), 0 – 0.601562 s, baseline off, ~54 kB, data loaded,\n",
      " 'rare_frequent': 30>, 'pre_rare_freq': <Epochs |  30 events (all good), -0.601562 – 0 s, baseline off, ~54 kB, data loaded,\n",
      " 'rare_frequent': 30>, 'post_freq_freq': <Epochs |  123 events (all good), 0 – 0.601562 s, baseline off, ~167 kB, data loaded,\n",
      " 'frequent_frequent': 123>, 'pre_freq_freq': <Epochs |  123 events (all good), -0.601562 – 0 s, baseline off, ~167 kB, data loaded,\n",
      " 'frequent_frequent': 123>}, 'p3_14': {'post_freq_rare': <Epochs |  40 events (all good), 0 – 0.601562 s, baseline off, ~66 kB, data loaded,\n",
      " 'frequent_rare': 40>, 'pre_freq_rare': <Epochs |  40 events (all good), -0.601562 – 0 s, baseline off, ~66 kB, data loaded,\n",
      " 'frequent_rare': 40>, 'post_rare_freq': <Epochs |  36 events (all good), 0 – 0.601562 s, baseline off, ~61 kB, data loaded,\n",
      " 'rare_frequent': 36>, 'pre_rare_freq': <Epochs |  36 events (all good), -0.601562 – 0 s, baseline off, ~61 kB, data loaded,\n",
      " 'rare_frequent': 36>, 'post_freq_freq': <Epochs |  124 events (all good), 0 – 0.601562 s, baseline off, ~168 kB, data loaded,\n",
      " 'frequent_frequent': 124>, 'pre_freq_freq': <Epochs |  124 events (all good), -0.601562 – 0 s, baseline off, ~168 kB, data loaded,\n",
      " 'frequent_frequent': 124>}, 'p3_15': {'post_freq_rare': <Epochs |  40 events (all good), 0 – 0.601562 s, baseline off, ~66 kB, data loaded,\n",
      " 'frequent_rare': 40>, 'pre_freq_rare': <Epochs |  40 events (all good), -0.601562 – 0 s, baseline off, ~66 kB, data loaded,\n",
      " 'frequent_rare': 40>, 'post_rare_freq': <Epochs |  35 events (all good), 0 – 0.601562 s, baseline off, ~60 kB, data loaded,\n",
      " 'rare_frequent': 35>, 'pre_rare_freq': <Epochs |  35 events (all good), -0.601562 – 0 s, baseline off, ~60 kB, data loaded,\n",
      " 'rare_frequent': 35>, 'post_freq_freq': <Epochs |  124 events (all good), 0 – 0.601562 s, baseline off, ~168 kB, data loaded,\n",
      " 'frequent_frequent': 124>, 'pre_freq_freq': <Epochs |  124 events (all good), -0.601562 – 0 s, baseline off, ~168 kB, data loaded,\n",
      " 'frequent_frequent': 124>}, 'p3_16': {'post_freq_rare': <Epochs |  40 events (all good), 0 – 0.601562 s, baseline off, ~66 kB, data loaded,\n",
      " 'frequent_rare': 40>, 'pre_freq_rare': <Epochs |  40 events (all good), -0.601562 – 0 s, baseline off, ~66 kB, data loaded,\n",
      " 'frequent_rare': 40>, 'post_rare_freq': <Epochs |  34 events (all good), 0 – 0.601562 s, baseline off, ~59 kB, data loaded,\n",
      " 'rare_frequent': 34>, 'pre_rare_freq': <Epochs |  34 events (all good), -0.601562 – 0 s, baseline off, ~59 kB, data loaded,\n",
      " 'rare_frequent': 34>, 'post_freq_freq': <Epochs |  126 events (all good), 0 – 0.601562 s, baseline off, ~170 kB, data loaded,\n",
      " 'frequent_frequent': 126>, 'pre_freq_freq': <Epochs |  126 events (all good), -0.601562 – 0 s, baseline off, ~170 kB, data loaded,\n",
      " 'frequent_frequent': 126>}, 'p3_17': {'post_freq_rare': <Epochs |  40 events (all good), 0 – 0.601562 s, baseline off, ~66 kB, data loaded,\n",
      " 'frequent_rare': 40>, 'pre_freq_rare': <Epochs |  40 events (all good), -0.601562 – 0 s, baseline off, ~66 kB, data loaded,\n",
      " 'frequent_rare': 40>, 'post_rare_freq': <Epochs |  33 events (all good), 0 – 0.601562 s, baseline off, ~58 kB, data loaded,\n",
      " 'rare_frequent': 33>, 'pre_rare_freq': <Epochs |  33 events (all good), -0.601562 – 0 s, baseline off, ~58 kB, data loaded,\n",
      " 'rare_frequent': 33>, 'post_freq_freq': <Epochs |  120 events (all good), 0 – 0.601562 s, baseline off, ~163 kB, data loaded,\n",
      " 'frequent_frequent': 120>, 'pre_freq_freq': <Epochs |  120 events (all good), -0.601562 – 0 s, baseline off, ~163 kB, data loaded,\n",
      " 'frequent_frequent': 120>}, 'p3_18': {'post_freq_rare': <Epochs |  40 events (all good), 0 – 0.601562 s, baseline off, ~66 kB, data loaded,\n",
      " 'frequent_rare': 40>, 'pre_freq_rare': <Epochs |  40 events (all good), -0.601562 – 0 s, baseline off, ~66 kB, data loaded,\n",
      " 'frequent_rare': 40>, 'post_rare_freq': <Epochs |  32 events (all good), 0 – 0.601562 s, baseline off, ~56 kB, data loaded,\n",
      " 'rare_frequent': 32>, 'pre_rare_freq': <Epochs |  32 events (all good), -0.601562 – 0 s, baseline off, ~56 kB, data loaded,\n",
      " 'rare_frequent': 32>, 'post_freq_freq': <Epochs |  124 events (all good), 0 – 0.601562 s, baseline off, ~168 kB, data loaded,\n",
      " 'frequent_frequent': 124>, 'pre_freq_freq': <Epochs |  124 events (all good), -0.601562 – 0 s, baseline off, ~168 kB, data loaded,\n",
      " 'frequent_frequent': 124>}, 'p3_19': {'post_freq_rare': <Epochs |  40 events (all good), 0 – 0.601562 s, baseline off, ~66 kB, data loaded,\n",
      " 'frequent_rare': 40>, 'pre_freq_rare': <Epochs |  40 events (all good), -0.601562 – 0 s, baseline off, ~66 kB, data loaded,\n",
      " 'frequent_rare': 40>, 'post_rare_freq': <Epochs |  34 events (all good), 0 – 0.601562 s, baseline off, ~59 kB, data loaded,\n",
      " 'rare_frequent': 34>, 'pre_rare_freq': <Epochs |  34 events (all good), -0.601562 – 0 s, baseline off, ~59 kB, data loaded,\n",
      " 'rare_frequent': 34>, 'post_freq_freq': <Epochs |  126 events (all good), 0 – 0.601562 s, baseline off, ~170 kB, data loaded,\n",
      " 'frequent_frequent': 126>, 'pre_freq_freq': <Epochs |  126 events (all good), -0.601562 – 0 s, baseline off, ~170 kB, data loaded,\n",
      " 'frequent_frequent': 126>}, 'p3_2': {'post_freq_rare': <Epochs |  40 events (all good), 0 – 0.601562 s, baseline off, ~66 kB, data loaded,\n",
      " 'frequent_rare': 40>, 'pre_freq_rare': <Epochs |  40 events (all good), -0.601562 – 0 s, baseline off, ~66 kB, data loaded,\n",
      " 'frequent_rare': 40>, 'post_rare_freq': <Epochs |  37 events (all good), 0 – 0.601562 s, baseline off, ~62 kB, data loaded,\n",
      " 'rare_frequent': 37>, 'pre_rare_freq': <Epochs |  37 events (all good), -0.601562 – 0 s, baseline off, ~62 kB, data loaded,\n",
      " 'rare_frequent': 37>, 'post_freq_freq': <Epochs |  119 events (all good), 0 – 0.601562 s, baseline off, ~162 kB, data loaded,\n",
      " 'frequent_frequent': 119>, 'pre_freq_freq': <Epochs |  119 events (all good), -0.601562 – 0 s, baseline off, ~162 kB, data loaded,\n",
      " 'frequent_frequent': 119>}, 'p3_20': {'post_freq_rare': <Epochs |  40 events (all good), 0 – 0.601562 s, baseline off, ~66 kB, data loaded,\n",
      " 'frequent_rare': 40>, 'pre_freq_rare': <Epochs |  40 events (all good), -0.601562 – 0 s, baseline off, ~66 kB, data loaded,\n",
      " 'frequent_rare': 40>, 'post_rare_freq': <Epochs |  30 events (all good), 0 – 0.601562 s, baseline off, ~54 kB, data loaded,\n",
      " 'rare_frequent': 30>, 'pre_rare_freq': <Epochs |  30 events (all good), -0.601562 – 0 s, baseline off, ~54 kB, data loaded,\n",
      " 'rare_frequent': 30>, 'post_freq_freq': <Epochs |  120 events (all good), 0 – 0.601562 s, baseline off, ~163 kB, data loaded,\n",
      " 'frequent_frequent': 120>, 'pre_freq_freq': <Epochs |  120 events (all good), -0.601562 – 0 s, baseline off, ~163 kB, data loaded,\n",
      " 'frequent_frequent': 120>}, 'p3_3': {'post_freq_rare': <Epochs |  40 events (all good), 0 – 0.601562 s, baseline off, ~66 kB, data loaded,\n",
      " 'frequent_rare': 40>, 'pre_freq_rare': <Epochs |  40 events (all good), -0.601562 – 0 s, baseline off, ~66 kB, data loaded,\n",
      " 'frequent_rare': 40>, 'post_rare_freq': <Epochs |  33 events (all good), 0 – 0.601562 s, baseline off, ~58 kB, data loaded,\n",
      " 'rare_frequent': 33>, 'pre_rare_freq': <Epochs |  33 events (all good), -0.601562 – 0 s, baseline off, ~58 kB, data loaded,\n",
      " 'rare_frequent': 33>, 'post_freq_freq': <Epochs |  105 events (all good), 0 – 0.601562 s, baseline off, ~145 kB, data loaded,\n",
      " 'frequent_frequent': 105>, 'pre_freq_freq': <Epochs |  105 events (all good), -0.601562 – 0 s, baseline off, ~145 kB, data loaded,\n",
      " 'frequent_frequent': 105>}, 'p3_4': {'post_freq_rare': <Epochs |  40 events (all good), 0 – 0.601562 s, baseline off, ~66 kB, data loaded,\n",
      " 'frequent_rare': 40>, 'pre_freq_rare': <Epochs |  40 events (all good), -0.601562 – 0 s, baseline off, ~66 kB, data loaded,\n",
      " 'frequent_rare': 40>, 'post_rare_freq': <Epochs |  34 events (all good), 0 – 0.601562 s, baseline off, ~59 kB, data loaded,\n",
      " 'rare_frequent': 34>, 'pre_rare_freq': <Epochs |  34 events (all good), -0.601562 – 0 s, baseline off, ~59 kB, data loaded,\n",
      " 'rare_frequent': 34>, 'post_freq_freq': <Epochs |  124 events (all good), 0 – 0.601562 s, baseline off, ~168 kB, data loaded,\n",
      " 'frequent_frequent': 124>, 'pre_freq_freq': <Epochs |  124 events (all good), -0.601562 – 0 s, baseline off, ~168 kB, data loaded,\n",
      " 'frequent_frequent': 124>}, 'p3_5': {'post_freq_rare': <Epochs |  40 events (all good), 0 – 0.601562 s, baseline off, ~66 kB, data loaded,\n",
      " 'frequent_rare': 40>, 'pre_freq_rare': <Epochs |  40 events (all good), -0.601562 – 0 s, baseline off, ~66 kB, data loaded,\n",
      " 'frequent_rare': 40>, 'post_rare_freq': <Epochs |  34 events (all good), 0 – 0.601562 s, baseline off, ~59 kB, data loaded,\n",
      " 'rare_frequent': 34>, 'pre_rare_freq': <Epochs |  34 events (all good), -0.601562 – 0 s, baseline off, ~59 kB, data loaded,\n",
      " 'rare_frequent': 34>, 'post_freq_freq': <Epochs |  118 events (all good), 0 – 0.601562 s, baseline off, ~161 kB, data loaded,\n",
      " 'frequent_frequent': 118>, 'pre_freq_freq': <Epochs |  118 events (all good), -0.601562 – 0 s, baseline off, ~161 kB, data loaded,\n",
      " 'frequent_frequent': 118>}, 'p3_6': {'post_freq_rare': <Epochs |  40 events (all good), 0 – 0.601562 s, baseline off, ~66 kB, data loaded,\n",
      " 'frequent_rare': 40>, 'pre_freq_rare': <Epochs |  40 events (all good), -0.601562 – 0 s, baseline off, ~66 kB, data loaded,\n",
      " 'frequent_rare': 40>, 'post_rare_freq': <Epochs |  33 events (all good), 0 – 0.601562 s, baseline off, ~58 kB, data loaded,\n",
      " 'rare_frequent': 33>, 'pre_rare_freq': <Epochs |  33 events (all good), -0.601562 – 0 s, baseline off, ~58 kB, data loaded,\n",
      " 'rare_frequent': 33>, 'post_freq_freq': <Epochs |  117 events (all good), 0 – 0.601562 s, baseline off, ~159 kB, data loaded,\n",
      " 'frequent_frequent': 117>, 'pre_freq_freq': <Epochs |  117 events (all good), -0.601562 – 0 s, baseline off, ~159 kB, data loaded,\n",
      " 'frequent_frequent': 117>}, 'p3_7': {'post_freq_rare': <Epochs |  40 events (all good), 0 – 0.601562 s, baseline off, ~66 kB, data loaded,\n",
      " 'frequent_rare': 40>, 'pre_freq_rare': <Epochs |  40 events (all good), -0.601562 – 0 s, baseline off, ~66 kB, data loaded,\n",
      " 'frequent_rare': 40>, 'post_rare_freq': <Epochs |  31 events (all good), 0 – 0.601562 s, baseline off, ~55 kB, data loaded,\n",
      " 'rare_frequent': 31>, 'pre_rare_freq': <Epochs |  31 events (all good), -0.601562 – 0 s, baseline off, ~55 kB, data loaded,\n",
      " 'rare_frequent': 31>, 'post_freq_freq': <Epochs |  126 events (all good), 0 – 0.601562 s, baseline off, ~170 kB, data loaded,\n",
      " 'frequent_frequent': 126>, 'pre_freq_freq': <Epochs |  126 events (all good), -0.601562 – 0 s, baseline off, ~170 kB, data loaded,\n",
      " 'frequent_frequent': 126>}, 'p3_8': {'post_freq_rare': <Epochs |  40 events (all good), 0 – 0.601562 s, baseline off, ~66 kB, data loaded,\n",
      " 'frequent_rare': 40>, 'pre_freq_rare': <Epochs |  40 events (all good), -0.601562 – 0 s, baseline off, ~66 kB, data loaded,\n",
      " 'frequent_rare': 40>, 'post_rare_freq': <Epochs |  35 events (all good), 0 – 0.601562 s, baseline off, ~60 kB, data loaded,\n",
      " 'rare_frequent': 35>, 'pre_rare_freq': <Epochs |  35 events (all good), -0.601562 – 0 s, baseline off, ~60 kB, data loaded,\n",
      " 'rare_frequent': 35>, 'post_freq_freq': <Epochs |  125 events (all good), 0 – 0.601562 s, baseline off, ~169 kB, data loaded,\n",
      " 'frequent_frequent': 125>, 'pre_freq_freq': <Epochs |  125 events (all good), -0.601562 – 0 s, baseline off, ~169 kB, data loaded,\n",
      " 'frequent_frequent': 125>}, 'p3_9': {'post_freq_rare': <Epochs |  40 events (all good), 0 – 0.601562 s, baseline off, ~66 kB, data loaded,\n",
      " 'frequent_rare': 40>, 'pre_freq_rare': <Epochs |  40 events (all good), -0.601562 – 0 s, baseline off, ~66 kB, data loaded,\n",
      " 'frequent_rare': 40>, 'post_rare_freq': <Epochs |  34 events (all good), 0 – 0.601562 s, baseline off, ~59 kB, data loaded,\n",
      " 'rare_frequent': 34>, 'pre_rare_freq': <Epochs |  34 events (all good), -0.601562 – 0 s, baseline off, ~59 kB, data loaded,\n",
      " 'rare_frequent': 34>, 'post_freq_freq': <Epochs |  111 events (all good), 0 – 0.601562 s, baseline off, ~152 kB, data loaded,\n",
      " 'frequent_frequent': 111>, 'pre_freq_freq': <Epochs |  111 events (all good), -0.601562 – 0 s, baseline off, ~152 kB, data loaded,\n",
      " 'frequent_frequent': 111>}}\n"
     ]
    }
   ],
   "source": [
    "print(pip_dict)"
   ]
  },
  {
   "cell_type": "code",
   "execution_count": null,
   "metadata": {},
   "outputs": [],
   "source": []
  }
 ],
 "metadata": {
  "kernelspec": {
   "display_name": "base",
   "language": "python",
   "name": "python3"
  },
  "language_info": {
   "codemirror_mode": {
    "name": "ipython",
    "version": 3
   },
   "file_extension": ".py",
   "mimetype": "text/x-python",
   "name": "python",
   "nbconvert_exporter": "python",
   "pygments_lexer": "ipython3",
   "version": "3.11.3"
  }
 },
 "nbformat": 4,
 "nbformat_minor": 2
}
