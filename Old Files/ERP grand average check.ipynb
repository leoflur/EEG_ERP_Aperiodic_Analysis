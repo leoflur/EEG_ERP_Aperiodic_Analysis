{
 "cells": [
  {
   "cell_type": "code",
   "execution_count": 2,
   "metadata": {},
   "outputs": [],
   "source": [
    "import mne\n",
    "import matplotlib.pyplot as plt\n",
    "import numpy as np \n",
    "import os"
   ]
  },
  {
   "cell_type": "code",
   "execution_count": null,
   "metadata": {},
   "outputs": [
    {
     "name": "stdout",
     "output_type": "stream",
     "text": [
      "Reading C:\\Users\\leofl\\OneDrive\\Desktop\\ERP Data\\Project Cygnus\\p3_1.fdt\n"
     ]
    },
    {
     "name": "stderr",
     "output_type": "stream",
     "text": [
      "C:\\Users\\leofl\\AppData\\Local\\Temp\\ipykernel_15008\\2028649605.py:6: RuntimeWarning: Data file name in EEG.data (1_P3_shifted_ds_reref_ucbip_hpfilt_ica_weighted.fdt) is incorrect, the file name must have changed on disk, using the correct file name (p3_1.fdt).\n",
      "  raw_eeg = mne.io.read_raw_eeglab(file_path, preload=True)\n"
     ]
    },
    {
     "name": "stdout",
     "output_type": "stream",
     "text": [
      "Reading 0 ... 119551  =      0.000 ...   466.996 secs...\n",
      "Loaded EEG data from C:/Users/leofl/OneDrive/Desktop/ERP Data/Project Cygnus/p3_1.set\n",
      "Reading C:\\Users\\leofl\\OneDrive\\Desktop\\ERP Data\\Project Cygnus\\p3_10.fdt\n",
      "Reading 0 ... 93951  =      0.000 ...   366.996 secs...\n",
      "Loaded EEG data from C:/Users/leofl/OneDrive/Desktop/ERP Data/Project Cygnus/p3_10.set\n",
      "Reading C:\\Users\\leofl\\OneDrive\\Desktop\\ERP Data\\Project Cygnus\\p3_11.fdt\n",
      "Reading 0 ... 94207  =      0.000 ...   367.996 secs...\n",
      "Loaded EEG data from C:/Users/leofl/OneDrive/Desktop/ERP Data/Project Cygnus/p3_11.set\n",
      "Reading C:\\Users\\leofl\\OneDrive\\Desktop\\ERP Data\\Project Cygnus\\p3_12.fdt\n",
      "Reading 0 ... 86271  =      0.000 ...   336.996 secs...\n"
     ]
    },
    {
     "name": "stderr",
     "output_type": "stream",
     "text": [
      "C:\\Users\\leofl\\AppData\\Local\\Temp\\ipykernel_15008\\2028649605.py:6: RuntimeWarning: Data file name in EEG.data (10_P3_shifted_ds_reref_ucbip_hpfilt_ica_weighted.fdt) is incorrect, the file name must have changed on disk, using the correct file name (p3_10.fdt).\n",
      "  raw_eeg = mne.io.read_raw_eeglab(file_path, preload=True)\n",
      "C:\\Users\\leofl\\AppData\\Local\\Temp\\ipykernel_15008\\2028649605.py:6: RuntimeWarning: Data file name in EEG.data (11_P3_shifted_ds_reref_ucbip_hpfilt_ica_weighted.fdt) is incorrect, the file name must have changed on disk, using the correct file name (p3_11.fdt).\n",
      "  raw_eeg = mne.io.read_raw_eeglab(file_path, preload=True)\n",
      "C:\\Users\\leofl\\AppData\\Local\\Temp\\ipykernel_15008\\2028649605.py:6: RuntimeWarning: Data file name in EEG.data (12_P3_shifted_ds_reref_ucbip_hpfilt_ica_weighted.fdt) is incorrect, the file name must have changed on disk, using the correct file name (p3_12.fdt).\n",
      "  raw_eeg = mne.io.read_raw_eeglab(file_path, preload=True)\n"
     ]
    },
    {
     "name": "stdout",
     "output_type": "stream",
     "text": [
      "Loaded EEG data from C:/Users/leofl/OneDrive/Desktop/ERP Data/Project Cygnus/p3_12.set\n",
      "Reading C:\\Users\\leofl\\OneDrive\\Desktop\\ERP Data\\Project Cygnus\\p3_13.fdt\n",
      "Reading 0 ... 96511  =      0.000 ...   376.996 secs...\n",
      "Loaded EEG data from C:/Users/leofl/OneDrive/Desktop/ERP Data/Project Cygnus/p3_13.set\n",
      "Reading C:\\Users\\leofl\\OneDrive\\Desktop\\ERP Data\\Project Cygnus\\p3_14.fdt\n",
      "Reading 0 ... 86783  =      0.000 ...   338.996 secs...\n",
      "Loaded EEG data from C:/Users/leofl/OneDrive/Desktop/ERP Data/Project Cygnus/p3_14.set\n",
      "Reading C:\\Users\\leofl\\OneDrive\\Desktop\\ERP Data\\Project Cygnus\\p3_15.fdt\n"
     ]
    },
    {
     "name": "stderr",
     "output_type": "stream",
     "text": [
      "C:\\Users\\leofl\\AppData\\Local\\Temp\\ipykernel_15008\\2028649605.py:6: RuntimeWarning: Data file name in EEG.data (13_P3_shifted_ds_reref_ucbip_hpfilt_ica_weighted.fdt) is incorrect, the file name must have changed on disk, using the correct file name (p3_13.fdt).\n",
      "  raw_eeg = mne.io.read_raw_eeglab(file_path, preload=True)\n",
      "C:\\Users\\leofl\\AppData\\Local\\Temp\\ipykernel_15008\\2028649605.py:6: RuntimeWarning: Data file name in EEG.data (14_P3_shifted_ds_reref_ucbip_hpfilt_ica_weighted.fdt) is incorrect, the file name must have changed on disk, using the correct file name (p3_14.fdt).\n",
      "  raw_eeg = mne.io.read_raw_eeglab(file_path, preload=True)\n",
      "C:\\Users\\leofl\\AppData\\Local\\Temp\\ipykernel_15008\\2028649605.py:6: RuntimeWarning: Data file name in EEG.data (15_P3_shifted_ds_reref_ucbip_hpfilt_ica_weighted.fdt) is incorrect, the file name must have changed on disk, using the correct file name (p3_15.fdt).\n",
      "  raw_eeg = mne.io.read_raw_eeglab(file_path, preload=True)\n"
     ]
    },
    {
     "name": "stdout",
     "output_type": "stream",
     "text": [
      "Reading 0 ... 93183  =      0.000 ...   363.996 secs...\n",
      "Loaded EEG data from C:/Users/leofl/OneDrive/Desktop/ERP Data/Project Cygnus/p3_15.set\n",
      "Reading C:\\Users\\leofl\\OneDrive\\Desktop\\ERP Data\\Project Cygnus\\p3_16.fdt\n",
      "Reading 0 ... 106239  =      0.000 ...   414.996 secs...\n",
      "Loaded EEG data from C:/Users/leofl/OneDrive/Desktop/ERP Data/Project Cygnus/p3_16.set\n",
      "Reading C:\\Users\\leofl\\OneDrive\\Desktop\\ERP Data\\Project Cygnus\\p3_17.fdt\n",
      "Reading 0 ... 100351  =      0.000 ...   391.996 secs...\n",
      "Loaded EEG data from C:/Users/leofl/OneDrive/Desktop/ERP Data/Project Cygnus/p3_17.set\n",
      "Reading C:\\Users\\leofl\\OneDrive\\Desktop\\ERP Data\\Project Cygnus\\p3_18.fdt\n",
      "Reading 0 ... 101631  =      0.000 ...   396.996 secs...\n"
     ]
    },
    {
     "name": "stderr",
     "output_type": "stream",
     "text": [
      "C:\\Users\\leofl\\AppData\\Local\\Temp\\ipykernel_15008\\2028649605.py:6: RuntimeWarning: Data file name in EEG.data (16_P3_shifted_ds_reref_ucbip_hpfilt_ica_weighted.fdt) is incorrect, the file name must have changed on disk, using the correct file name (p3_16.fdt).\n",
      "  raw_eeg = mne.io.read_raw_eeglab(file_path, preload=True)\n",
      "C:\\Users\\leofl\\AppData\\Local\\Temp\\ipykernel_15008\\2028649605.py:6: RuntimeWarning: Data file name in EEG.data (17_P3_shifted_ds_reref_ucbip_hpfilt_ica_weighted.fdt) is incorrect, the file name must have changed on disk, using the correct file name (p3_17.fdt).\n",
      "  raw_eeg = mne.io.read_raw_eeglab(file_path, preload=True)\n",
      "C:\\Users\\leofl\\AppData\\Local\\Temp\\ipykernel_15008\\2028649605.py:6: RuntimeWarning: Data file name in EEG.data (18_P3_shifted_ds_reref_ucbip_hpfilt_ica_weighted.fdt) is incorrect, the file name must have changed on disk, using the correct file name (p3_18.fdt).\n",
      "  raw_eeg = mne.io.read_raw_eeglab(file_path, preload=True)\n"
     ]
    },
    {
     "name": "stdout",
     "output_type": "stream",
     "text": [
      "Loaded EEG data from C:/Users/leofl/OneDrive/Desktop/ERP Data/Project Cygnus/p3_18.set\n",
      "Reading C:\\Users\\leofl\\OneDrive\\Desktop\\ERP Data\\Project Cygnus\\p3_19.fdt\n",
      "Reading 0 ... 94207  =      0.000 ...   367.996 secs...\n",
      "Loaded EEG data from C:/Users/leofl/OneDrive/Desktop/ERP Data/Project Cygnus/p3_19.set\n",
      "Reading C:\\Users\\leofl\\OneDrive\\Desktop\\ERP Data\\Project Cygnus\\p3_2.fdt\n",
      "Reading 0 ... 103679  =      0.000 ...   404.996 secs...\n",
      "Loaded EEG data from C:/Users/leofl/OneDrive/Desktop/ERP Data/Project Cygnus/p3_2.set\n",
      "Reading C:\\Users\\leofl\\OneDrive\\Desktop\\ERP Data\\Project Cygnus\\p3_20.fdt\n"
     ]
    },
    {
     "name": "stderr",
     "output_type": "stream",
     "text": [
      "C:\\Users\\leofl\\AppData\\Local\\Temp\\ipykernel_15008\\2028649605.py:6: RuntimeWarning: Data file name in EEG.data (19_P3_shifted_ds_reref_ucbip_hpfilt_ica_weighted.fdt) is incorrect, the file name must have changed on disk, using the correct file name (p3_19.fdt).\n",
      "  raw_eeg = mne.io.read_raw_eeglab(file_path, preload=True)\n",
      "C:\\Users\\leofl\\AppData\\Local\\Temp\\ipykernel_15008\\2028649605.py:6: RuntimeWarning: Data file name in EEG.data (2_P3_shifted_ds_reref_ucbip_hpfilt_ica_weighted.fdt) is incorrect, the file name must have changed on disk, using the correct file name (p3_2.fdt).\n",
      "  raw_eeg = mne.io.read_raw_eeglab(file_path, preload=True)\n",
      "C:\\Users\\leofl\\AppData\\Local\\Temp\\ipykernel_15008\\2028649605.py:6: RuntimeWarning: Data file name in EEG.data (20_P3_shifted_ds_reref_ucbip_hpfilt_ica_weighted.fdt) is incorrect, the file name must have changed on disk, using the correct file name (p3_20.fdt).\n",
      "  raw_eeg = mne.io.read_raw_eeglab(file_path, preload=True)\n"
     ]
    },
    {
     "name": "stdout",
     "output_type": "stream",
     "text": [
      "Reading 0 ... 94207  =      0.000 ...   367.996 secs...\n",
      "Loaded EEG data from C:/Users/leofl/OneDrive/Desktop/ERP Data/Project Cygnus/p3_20.set\n",
      "Reading C:\\Users\\leofl\\OneDrive\\Desktop\\ERP Data\\Project Cygnus\\p3_3.fdt\n",
      "Reading 0 ... 96511  =      0.000 ...   376.996 secs...\n",
      "Loaded EEG data from C:/Users/leofl/OneDrive/Desktop/ERP Data/Project Cygnus/p3_3.set\n",
      "Reading C:\\Users\\leofl\\OneDrive\\Desktop\\ERP Data\\Project Cygnus\\p3_4.fdt\n",
      "Reading 0 ... 139263  =      0.000 ...   543.996 secs...\n",
      "Loaded EEG data from C:/Users/leofl/OneDrive/Desktop/ERP Data/Project Cygnus/p3_4.set\n"
     ]
    },
    {
     "name": "stderr",
     "output_type": "stream",
     "text": [
      "C:\\Users\\leofl\\AppData\\Local\\Temp\\ipykernel_15008\\2028649605.py:6: RuntimeWarning: Data file name in EEG.data (3_P3_shifted_ds_reref_ucbip_hpfilt_ica_weighted.fdt) is incorrect, the file name must have changed on disk, using the correct file name (p3_3.fdt).\n",
      "  raw_eeg = mne.io.read_raw_eeglab(file_path, preload=True)\n",
      "C:\\Users\\leofl\\AppData\\Local\\Temp\\ipykernel_15008\\2028649605.py:6: RuntimeWarning: Data file name in EEG.data (4_P3_shifted_ds_reref_ucbip_hpfilt_ica_weighted.fdt) is incorrect, the file name must have changed on disk, using the correct file name (p3_4.fdt).\n",
      "  raw_eeg = mne.io.read_raw_eeglab(file_path, preload=True)\n"
     ]
    },
    {
     "name": "stdout",
     "output_type": "stream",
     "text": [
      "Reading C:\\Users\\leofl\\OneDrive\\Desktop\\ERP Data\\Project Cygnus\\p3_5.fdt\n",
      "Reading 0 ... 97791  =      0.000 ...   381.996 secs...\n",
      "Loaded EEG data from C:/Users/leofl/OneDrive/Desktop/ERP Data/Project Cygnus/p3_5.set\n",
      "Reading C:\\Users\\leofl\\OneDrive\\Desktop\\ERP Data\\Project Cygnus\\p3_6.fdt\n",
      "Reading 0 ... 83967  =      0.000 ...   327.996 secs...\n",
      "Loaded EEG data from C:/Users/leofl/OneDrive/Desktop/ERP Data/Project Cygnus/p3_6.set\n",
      "Reading C:\\Users\\leofl\\OneDrive\\Desktop\\ERP Data\\Project Cygnus\\p3_7.fdt\n",
      "Reading 0 ... 91135  =      0.000 ...   355.996 secs...\n"
     ]
    },
    {
     "name": "stderr",
     "output_type": "stream",
     "text": [
      "C:\\Users\\leofl\\AppData\\Local\\Temp\\ipykernel_15008\\2028649605.py:6: RuntimeWarning: Data file name in EEG.data (5_P3_shifted_ds_reref_ucbip_hpfilt_ica_weighted.fdt) is incorrect, the file name must have changed on disk, using the correct file name (p3_5.fdt).\n",
      "  raw_eeg = mne.io.read_raw_eeglab(file_path, preload=True)\n",
      "C:\\Users\\leofl\\AppData\\Local\\Temp\\ipykernel_15008\\2028649605.py:6: RuntimeWarning: Data file name in EEG.data (6_P3_shifted_ds_reref_ucbip_hpfilt_ica_weighted.fdt) is incorrect, the file name must have changed on disk, using the correct file name (p3_6.fdt).\n",
      "  raw_eeg = mne.io.read_raw_eeglab(file_path, preload=True)\n",
      "C:\\Users\\leofl\\AppData\\Local\\Temp\\ipykernel_15008\\2028649605.py:6: RuntimeWarning: Data file name in EEG.data (7_P3_shifted_ds_reref_ucbip_hpfilt_ica_weighted.fdt) is incorrect, the file name must have changed on disk, using the correct file name (p3_7.fdt).\n",
      "  raw_eeg = mne.io.read_raw_eeglab(file_path, preload=True)\n"
     ]
    },
    {
     "name": "stdout",
     "output_type": "stream",
     "text": [
      "Loaded EEG data from C:/Users/leofl/OneDrive/Desktop/ERP Data/Project Cygnus/p3_7.set\n",
      "Reading C:\\Users\\leofl\\OneDrive\\Desktop\\ERP Data\\Project Cygnus\\p3_8.fdt\n",
      "Reading 0 ... 117759  =      0.000 ...   459.996 secs...\n",
      "Loaded EEG data from C:/Users/leofl/OneDrive/Desktop/ERP Data/Project Cygnus/p3_8.set\n",
      "Reading C:\\Users\\leofl\\OneDrive\\Desktop\\ERP Data\\Project Cygnus\\p3_9.fdt\n",
      "Reading 0 ... 90367  =      0.000 ...   352.996 secs...\n"
     ]
    },
    {
     "name": "stderr",
     "output_type": "stream",
     "text": [
      "C:\\Users\\leofl\\AppData\\Local\\Temp\\ipykernel_15008\\2028649605.py:6: RuntimeWarning: Data file name in EEG.data (8_P3_shifted_ds_reref_ucbip_hpfilt_ica_weighted.fdt) is incorrect, the file name must have changed on disk, using the correct file name (p3_8.fdt).\n",
      "  raw_eeg = mne.io.read_raw_eeglab(file_path, preload=True)\n",
      "C:\\Users\\leofl\\AppData\\Local\\Temp\\ipykernel_15008\\2028649605.py:6: RuntimeWarning: Data file name in EEG.data (9_P3_shifted_ds_reref_ucbip_hpfilt_ica_weighted.fdt) is incorrect, the file name must have changed on disk, using the correct file name (p3_9.fdt).\n",
      "  raw_eeg = mne.io.read_raw_eeglab(file_path, preload=True)\n"
     ]
    },
    {
     "name": "stdout",
     "output_type": "stream",
     "text": [
      "Loaded EEG data from C:/Users/leofl/OneDrive/Desktop/ERP Data/Project Cygnus/p3_9.set\n"
     ]
    }
   ],
   "source": [
    "evoked = []\n",
    "folder_path = \"C:/Users/leofl/OneDrive/Desktop/ERP Data/Project Cygnus/\"  # Replace with your actual folder path\n",
    "\n",
    "for filename in os.listdir(folder_path):\n",
    "    if filename.endswith('.set'):  # Check if the file is an EEGLAB .set file\n",
    "        file_path = os.path.join(folder_path, filename)\n",
    "        raw_eeg = mne.io.read_raw_eeglab(file_path, preload=True)\n",
    "\n",
    "    ten_twenty_montage = mne.channels.make_standard_montage('standard_1020')\n",
    "    raw_eeg.rename_channels({\"FP1\":'Fp1','FP2':'Fp2'})\n",
    "    raw_eeg.set_channel_types({'HEOG_left':'eog', 'HEOG_right':'eog', \\\n",
    "                       'VEOG_lower':'eog', '(uncorr) HEOG' : 'eog',\\\n",
    "                       '(uncorr) VEOG' : 'eog'})\n",
    "    raw_eeg.set_montage(ten_twenty_montage)\n",
    "    \n",
    "    event_p3, event_id_p3 = mne.events_from_annotations(p3)\n",
    "    event_p3_minus67 = [array for array in event_p3 if array[2] \\\n",
    "                    != 6 and array[2] != 7]\n",
    "    \n",
    "    event_id_p3_epoch = {\n",
    "    \"target\": [1, 9, 15, 21, 27], \n",
    "    \"nontarget\": [2, 3, 4, 5, 8, 10, 11, 12, 13,\n",
    "                  14, 16, 17, 18, 19,\n",
    "                  20, 22, 23, 24, 25, \n",
    "                  26]\n",
    "    }\n",
    "\n",
    "    for array in range(len(event_p3_minus67)):\n",
    "        if event_p3_minus67[array][2] in event_id_p3_epoch['target']:\n",
    "            event_p3_minus67[array][2] = 100\n",
    "        elif array > 0 and event_p3_minus67[array][2] in event_id_p3_epoch['nontarget'] and event_p3_minus67[array - 1][2] == 100:\n",
    "            event_p3_minus67[array][2] = 200\n",
    "        elif array > 0 and event_p3_minus67[array][2] in event_id_p3_epoch['nontarget'] and event_p3_minus67[array - 1][2] == 200 or event_p3_minus67[array - 1][2] == 300:\n",
    "            event_p3_minus67[array][2] = 300\n",
    "\n",
    "    new_event_id_p3_epoch = {\n",
    "      \"frequent_rare\": 100, \n",
    "      \"rare_frequent\": 200, \n",
    "      \"frequent_frequent\": 300  \n",
    "    }\n",
    "\n",
    "    epochs = mne.Epochs(p3, events = event_p3_minus67, \n",
    "                    event_id = new_event_id_p3_epoch,\n",
    "                    tmin  = -.6, tmax = .6,\n",
    "                    picks = ['Pz'],\n",
    "                    baseline = None,\n",
    "                    preload=True) \n",
    "    \n",
    "    rare_erp = epochs['frequent_rare'].average() \n",
    "\n",
    "    evoked = evoked.append(rare_erp)\n",
    "    "
   ]
  },
  {
   "cell_type": "code",
   "execution_count": null,
   "metadata": {},
   "outputs": [],
   "source": []
  }
 ],
 "metadata": {
  "kernelspec": {
   "display_name": "base",
   "language": "python",
   "name": "python3"
  },
  "language_info": {
   "codemirror_mode": {
    "name": "ipython",
    "version": 3
   },
   "file_extension": ".py",
   "mimetype": "text/x-python",
   "name": "python",
   "nbconvert_exporter": "python",
   "pygments_lexer": "ipython3",
   "version": "3.11.3"
  }
 },
 "nbformat": 4,
 "nbformat_minor": 2
}
