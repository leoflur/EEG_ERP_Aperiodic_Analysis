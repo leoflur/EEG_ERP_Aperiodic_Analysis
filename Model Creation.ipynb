{
 "cells": [
  {
   "cell_type": "code",
   "execution_count": 1,
   "metadata": {},
   "outputs": [],
   "source": [
    "import matplotlib.pyplot as plt\n",
    "import numpy as np\n",
    "import os"
   ]
  },
  {
   "cell_type": "code",
   "execution_count": 2,
   "metadata": {},
   "outputs": [],
   "source": [
    "input_folder = \"Z:/LeoF/Cygnus/Files\"\n",
    "trial = \"p3_1.set_frequent_frequent_electrodes.npy\"\n",
    "# have to sum across electrodes and pip types I think \n",
    "\n",
    "# input_path = os.path.join(input_folder, trial)\n",
    "\n",
    "trial_freq = np.load(\"Z:\\LeoF\\Cygnus\\Files\\p3_1.set_frequent_frequent_freq.npy\", allow_pickle = True)\n",
    "trial_power = np.load(\"Z:\\LeoF\\Cygnus\\Files\\p3_1.set_frequent_frequent_power.npy\",  allow_pickle = True)"
   ]
  },
  {
   "cell_type": "code",
   "execution_count": null,
   "metadata": {},
   "outputs": [
    {
     "data": {
      "text/plain": [
       "(28, 4, 154)"
      ]
     },
     "execution_count": 13,
     "metadata": {},
     "output_type": "execute_result"
    }
   ],
   "source": [
    "trial_power.shape\n",
    "\n",
    "# --- Shape of trial_power ---\n",
    "# 1st dimension electrodes (28)\n",
    "# 2nd dimension data types (1. pre, 2. post, 3. post_minus_erp, 4. fft_erp) (4)\n",
    "# 3rd dimension epochs (154)"
   ]
  },
  {
   "cell_type": "code",
   "execution_count": 28,
   "metadata": {},
   "outputs": [
    {
     "data": {
      "text/plain": [
       "(28, 154)"
      ]
     },
     "execution_count": 28,
     "metadata": {},
     "output_type": "execute_result"
    }
   ],
   "source": [
    "# model 1 -- do I average across electrodes for the models? -- I think so for the visualizaiton\n",
    "pre_event_spectra = trial_power[:,0,:] # Pre-event spectra indexing \n",
    "post_event_spectra = trial_power[:,1,:] # Post-event spectra indexing\n",
    "\n",
    "residual_power_model_1 = post_event_spectra - pre_event_spectra\n",
    "pre_event_spectra.shape\n"
   ]
  },
  {
   "cell_type": "code",
   "execution_count": 32,
   "metadata": {},
   "outputs": [
    {
     "name": "stdout",
     "output_type": "stream",
     "text": [
      "154\n",
      "(154,)\n",
      "28\n",
      "(28, 154)\n"
     ]
    }
   ],
   "source": [
    "# trial_freq = trial_freq.item()\n",
    "xf_pre = trial_freq['xf_pre']\n",
    "xf_post = trial_freq['xf_post']\n",
    "\n",
    "#mask for the pre an post frequencies (I have to seperate them )\n",
    "# can look at frequencies > 3hz because of cropping window and filtering out above 26\n",
    "# xf_pre = xf_pre[(xf_pre > 3) & (xf_pre < 26)]\n",
    "# xf_pre\n",
    "\n",
    "\n",
    "print(len(xf_pre))\n",
    "print(xf_pre.shape)\n",
    "print(len(pre_event_spectra))\n",
    "print(pre_event_spectra.shape)"
   ]
  },
  {
   "cell_type": "code",
   "execution_count": 16,
   "metadata": {},
   "outputs": [
    {
     "data": {
      "text/plain": [
       "array([   0.        ,    1.66233766,    3.32467532,    4.98701299,\n",
       "          6.64935065,    8.31168831,    9.97402597,   11.63636364,\n",
       "         13.2987013 ,   14.96103896,   16.62337662,   18.28571429,\n",
       "         19.94805195,   21.61038961,   23.27272727,   24.93506494,\n",
       "         26.5974026 ,   28.25974026,   29.92207792,   31.58441558,\n",
       "         33.24675325,   34.90909091,   36.57142857,   38.23376623,\n",
       "         39.8961039 ,   41.55844156,   43.22077922,   44.88311688,\n",
       "         46.54545455,   48.20779221,   49.87012987,   51.53246753,\n",
       "         53.19480519,   54.85714286,   56.51948052,   58.18181818,\n",
       "         59.84415584,   61.50649351,   63.16883117,   64.83116883,\n",
       "         66.49350649,   68.15584416,   69.81818182,   71.48051948,\n",
       "         73.14285714,   74.80519481,   76.46753247,   78.12987013,\n",
       "         79.79220779,   81.45454545,   83.11688312,   84.77922078,\n",
       "         86.44155844,   88.1038961 ,   89.76623377,   91.42857143,\n",
       "         93.09090909,   94.75324675,   96.41558442,   98.07792208,\n",
       "         99.74025974,  101.4025974 ,  103.06493506,  104.72727273,\n",
       "        106.38961039,  108.05194805,  109.71428571,  111.37662338,\n",
       "        113.03896104,  114.7012987 ,  116.36363636,  118.02597403,\n",
       "        119.68831169,  121.35064935,  123.01298701,  124.67532468,\n",
       "        126.33766234, -128.        , -126.33766234, -124.67532468,\n",
       "       -123.01298701, -121.35064935, -119.68831169, -118.02597403,\n",
       "       -116.36363636, -114.7012987 , -113.03896104, -111.37662338,\n",
       "       -109.71428571, -108.05194805, -106.38961039, -104.72727273,\n",
       "       -103.06493506, -101.4025974 ,  -99.74025974,  -98.07792208,\n",
       "        -96.41558442,  -94.75324675,  -93.09090909,  -91.42857143,\n",
       "        -89.76623377,  -88.1038961 ,  -86.44155844,  -84.77922078,\n",
       "        -83.11688312,  -81.45454545,  -79.79220779,  -78.12987013,\n",
       "        -76.46753247,  -74.80519481,  -73.14285714,  -71.48051948,\n",
       "        -69.81818182,  -68.15584416,  -66.49350649,  -64.83116883,\n",
       "        -63.16883117,  -61.50649351,  -59.84415584,  -58.18181818,\n",
       "        -56.51948052,  -54.85714286,  -53.19480519,  -51.53246753,\n",
       "        -49.87012987,  -48.20779221,  -46.54545455,  -44.88311688,\n",
       "        -43.22077922,  -41.55844156,  -39.8961039 ,  -38.23376623,\n",
       "        -36.57142857,  -34.90909091,  -33.24675325,  -31.58441558,\n",
       "        -29.92207792,  -28.25974026,  -26.5974026 ,  -24.93506494,\n",
       "        -23.27272727,  -21.61038961,  -19.94805195,  -18.28571429,\n",
       "        -16.62337662,  -14.96103896,  -13.2987013 ,  -11.63636364,\n",
       "         -9.97402597,   -8.31168831,   -6.64935065,   -4.98701299,\n",
       "         -3.32467532,   -1.66233766])"
      ]
     },
     "execution_count": 16,
     "metadata": {},
     "output_type": "execute_result"
    }
   ],
   "source": [
    "xf_pre"
   ]
  },
  {
   "cell_type": "code",
   "execution_count": 5,
   "metadata": {},
   "outputs": [
    {
     "data": {
      "text/plain": [
       "(28, 4, 154)"
      ]
     },
     "execution_count": 5,
     "metadata": {},
     "output_type": "execute_result"
    }
   ],
   "source": [
    "trial_power.shape"
   ]
  },
  {
   "cell_type": "code",
   "execution_count": 6,
   "metadata": {},
   "outputs": [
    {
     "data": {
      "text/plain": [
       "array([[5.49215812e-38, 1.24912933e-06, 2.97026704e-07, ...,\n",
       "        1.42403224e-07, 2.97026704e-07, 1.24912933e-06],\n",
       "       [1.09351128e-38, 2.66525106e-07, 8.44104536e-08, ...,\n",
       "        6.47054850e-08, 8.44104536e-08, 2.66525106e-07],\n",
       "       [2.36444314e-38, 2.51122583e-07, 7.55266924e-08, ...,\n",
       "        5.01263109e-08, 7.55266924e-08, 2.51122583e-07],\n",
       "       ...,\n",
       "       [2.38171258e-38, 2.54787576e-07, 1.09679631e-07, ...,\n",
       "        6.59007146e-08, 1.09679631e-07, 2.54787576e-07],\n",
       "       [2.53973279e-38, 1.88733110e-07, 8.64709947e-08, ...,\n",
       "        6.73436339e-08, 8.64709947e-08, 1.88733110e-07],\n",
       "       [9.88127002e-39, 8.60736605e-08, 4.28867690e-08, ...,\n",
       "        3.34616058e-08, 4.28867690e-08, 8.60736605e-08]])"
      ]
     },
     "execution_count": 6,
     "metadata": {},
     "output_type": "execute_result"
    }
   ],
   "source": [
    "pre_event_spectra"
   ]
  },
  {
   "cell_type": "code",
   "execution_count": 7,
   "metadata": {},
   "outputs": [],
   "source": [
    "# Why is the first value so small -- did I make a data preprocessing error?\n",
    "# Are values of 10^-11 too small for eeg?\n",
    "# why for the residual plots do they have y axis values of 0,1,2,3,4\n",
    "# they squared the residuals? -- summed across electodes, particpants, and frequencies?\n"
   ]
  },
  {
   "cell_type": "code",
   "execution_count": 8,
   "metadata": {},
   "outputs": [
    {
     "data": {
      "text/plain": [
       "array([ 5.31769180e-05,  2.56358523e-06,  5.85316782e-07,  2.17368129e-07,\n",
       "       -3.90149642e-07, -1.48856197e-06, -7.95920281e-06, -1.40824343e-06,\n",
       "       -4.15689296e-08,  2.70346224e-08, -5.10579070e-08, -1.07468213e-07,\n",
       "       -5.58486887e-07, -3.52009337e-07, -2.78116000e-08, -1.63955445e-07,\n",
       "       -6.13732330e-09, -5.45568337e-08, -2.74831497e-08, -1.97277929e-07,\n",
       "       -1.60415169e-07, -2.49026181e-07, -7.35747696e-08, -2.81779607e-07,\n",
       "       -2.88816747e-07, -6.02842408e-08,  2.63191277e-07, -1.40323912e-07,\n",
       "       -4.94877038e-07, -4.41706685e-08, -1.34897065e-07, -4.10819870e-08,\n",
       "        2.57263553e-08, -1.51308012e-07,  5.69174583e-08, -6.62628464e-07,\n",
       "        2.32801495e-07,  1.89864597e-07,  8.77489310e-09, -1.40292629e-07,\n",
       "       -9.57982321e-08, -1.28727077e-07, -2.21720772e-07, -9.70323024e-08,\n",
       "        7.89375105e-08, -1.17539757e-07,  8.62882097e-08, -8.88196811e-08,\n",
       "        4.12204648e-08, -8.99946615e-08, -9.43494573e-08, -1.54112135e-08,\n",
       "       -1.01244541e-07, -2.48264096e-07,  7.75177145e-09, -1.00025549e-07,\n",
       "       -1.06847642e-07,  3.26179860e-09, -6.32055911e-08, -1.42576577e-08,\n",
       "       -2.55971546e-07, -1.08895361e-07, -4.15110619e-08, -1.86243891e-08,\n",
       "        1.71942526e-08,  3.12766635e-08, -3.90415315e-08, -1.85471002e-08,\n",
       "        6.91828247e-08, -5.12624718e-08,  2.26592115e-08, -1.83510895e-09,\n",
       "       -8.26955499e-09, -2.61441006e-09, -3.82433849e-08, -6.19032762e-08,\n",
       "       -2.95221235e-08, -4.77905792e-08, -2.95221235e-08, -6.19032762e-08,\n",
       "       -3.82433849e-08, -2.61441006e-09, -8.26955499e-09, -1.83510895e-09,\n",
       "        2.26592115e-08, -5.12624718e-08,  6.91828247e-08, -1.85471002e-08,\n",
       "       -3.90415315e-08,  3.12766635e-08,  1.71942526e-08, -1.86243891e-08,\n",
       "       -4.15110619e-08, -1.08895361e-07, -2.55971546e-07, -1.42576577e-08,\n",
       "       -6.32055911e-08,  3.26179860e-09, -1.06847642e-07, -1.00025549e-07,\n",
       "        7.75177145e-09, -2.48264096e-07, -1.01244541e-07, -1.54112135e-08,\n",
       "       -9.43494573e-08, -8.99946615e-08,  4.12204648e-08, -8.88196811e-08,\n",
       "        8.62882097e-08, -1.17539757e-07,  7.89375105e-08, -9.70323024e-08,\n",
       "       -2.21720772e-07, -1.28727077e-07, -9.57982321e-08, -1.40292629e-07,\n",
       "        8.77489310e-09,  1.89864597e-07,  2.32801495e-07, -6.62628464e-07,\n",
       "        5.69174583e-08, -1.51308012e-07,  2.57263553e-08, -4.10819870e-08,\n",
       "       -1.34897065e-07, -4.41706685e-08, -4.94877038e-07, -1.40323912e-07,\n",
       "        2.63191277e-07, -6.02842408e-08, -2.88816747e-07, -2.81779607e-07,\n",
       "       -7.35747696e-08, -2.49026181e-07, -1.60415169e-07, -1.97277929e-07,\n",
       "       -2.74831497e-08, -5.45568337e-08, -6.13732330e-09, -1.63955445e-07,\n",
       "       -2.78116000e-08, -3.52009337e-07, -5.58486887e-07, -1.07468213e-07,\n",
       "       -5.10579070e-08,  2.70346224e-08, -4.15689296e-08, -1.40824343e-06,\n",
       "       -7.95920281e-06, -1.48856197e-06, -3.90149642e-07,  2.17368129e-07,\n",
       "        5.85316782e-07,  2.56358523e-06])"
      ]
     },
     "execution_count": 8,
     "metadata": {},
     "output_type": "execute_result"
    }
   ],
   "source": [
    "# average across electrodes\n",
    "np.sum(residual_power_model_1, axis = 0)"
   ]
  },
  {
   "cell_type": "code",
   "execution_count": 9,
   "metadata": {},
   "outputs": [
    {
     "ename": "AttributeError",
     "evalue": "'dict' object has no attribute 'item'",
     "output_type": "error",
     "traceback": [
      "\u001b[1;31m---------------------------------------------------------------------------\u001b[0m",
      "\u001b[1;31mAttributeError\u001b[0m                            Traceback (most recent call last)",
      "Cell \u001b[1;32mIn[9], line 5\u001b[0m\n\u001b[0;32m      1\u001b[0m \u001b[38;5;66;03m# Trial_npy are arrays containing dictionaries\u001b[39;00m\n\u001b[0;32m      2\u001b[0m \u001b[38;5;66;03m# No brackets \"[]\"\u001b[39;00m\n\u001b[0;32m      3\u001b[0m \u001b[38;5;66;03m# Trial_npy.ndim will give 0 bcs. no brackets\u001b[39;00m\n\u001b[0;32m      4\u001b[0m \u001b[38;5;66;03m# Use .item() when working w. 0-dim array\u001b[39;00m\n\u001b[1;32m----> 5\u001b[0m trial_dict \u001b[38;5;241m=\u001b[39m trial_freq\u001b[38;5;241m.\u001b[39mitem()\n\u001b[0;32m      7\u001b[0m \u001b[38;5;28mlen\u001b[39m(trial_dict[\u001b[38;5;124m'\u001b[39m\u001b[38;5;124mxf_pre\u001b[39m\u001b[38;5;124m'\u001b[39m])\n",
      "\u001b[1;31mAttributeError\u001b[0m: 'dict' object has no attribute 'item'"
     ]
    }
   ],
   "source": [
    "# Trial_npy are arrays containing dictionaries\n",
    "# No brackets \"[]\"\n",
    "# Trial_npy.ndim will give 0 bcs. no brackets\n",
    "# Use .item() when working w. 0-dim array\n",
    "trial_dict = trial_freq.item()\n",
    "\n",
    "len(trial_dict['xf_pre'])\n",
    "\n",
    "# How is it possible that I am saving out frequencies at 0? \n",
    "# Xf pre and post have a freq value at 0 "
   ]
  },
  {
   "cell_type": "code",
   "execution_count": null,
   "metadata": {},
   "outputs": [
    {
     "ename": "KeyError",
     "evalue": "'Xf_pre'",
     "output_type": "error",
     "traceback": [
      "\u001b[1;31m---------------------------------------------------------------------------\u001b[0m",
      "\u001b[1;31mKeyError\u001b[0m                                  Traceback (most recent call last)",
      "Cell \u001b[1;32mIn[8], line 1\u001b[0m\n\u001b[1;32m----> 1\u001b[0m \u001b[38;5;28mprint\u001b[39m(\u001b[38;5;28mlen\u001b[39m(trial_dict[\u001b[38;5;124m'\u001b[39m\u001b[38;5;124mXf_pre\u001b[39m\u001b[38;5;124m'\u001b[39m]))\n\u001b[0;32m      2\u001b[0m \u001b[38;5;28mprint\u001b[39m(\u001b[38;5;28mlen\u001b[39m(trial_dict[\u001b[38;5;124m'\u001b[39m\u001b[38;5;124mXf_post\u001b[39m\u001b[38;5;124m'\u001b[39m]))\n",
      "\u001b[1;31mKeyError\u001b[0m: 'Xf_pre'"
     ]
    }
   ],
   "source": [
    "print(len(trial_dict['Xf_pre']))\n",
    "print(len(trial_dict['Xf_post']))"
   ]
  },
  {
   "cell_type": "code",
   "execution_count": null,
   "metadata": {},
   "outputs": [],
   "source": []
  }
 ],
 "metadata": {
  "kernelspec": {
   "display_name": "base",
   "language": "python",
   "name": "python3"
  },
  "language_info": {
   "codemirror_mode": {
    "name": "ipython",
    "version": 3
   },
   "file_extension": ".py",
   "mimetype": "text/x-python",
   "name": "python",
   "nbconvert_exporter": "python",
   "pygments_lexer": "ipython3",
   "version": "3.11.3"
  }
 },
 "nbformat": 4,
 "nbformat_minor": 2
}
